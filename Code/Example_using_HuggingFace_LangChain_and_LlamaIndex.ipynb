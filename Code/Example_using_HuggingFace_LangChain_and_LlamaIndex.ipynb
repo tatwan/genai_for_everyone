{
  "nbformat": 4,
  "nbformat_minor": 0,
  "metadata": {
    "colab": {
      "provenance": [],
      "toc_visible": true
    },
    "kernelspec": {
      "name": "python3",
      "display_name": "Python 3"
    },
    "language_info": {
      "name": "python"
    },
    "widgets": {
      "application/vnd.jupyter.widget-state+json": {
        "31214f2e26fe48baabc910c653f74831": {
          "model_module": "@jupyter-widgets/controls",
          "model_name": "HBoxModel",
          "model_module_version": "1.5.0",
          "state": {
            "_dom_classes": [],
            "_model_module": "@jupyter-widgets/controls",
            "_model_module_version": "1.5.0",
            "_model_name": "HBoxModel",
            "_view_count": null,
            "_view_module": "@jupyter-widgets/controls",
            "_view_module_version": "1.5.0",
            "_view_name": "HBoxView",
            "box_style": "",
            "children": [
              "IPY_MODEL_a1ffac5d1d6b46c88056f1328d70d0e3",
              "IPY_MODEL_72db735a667f4e899474f3b5ea063045",
              "IPY_MODEL_50460cfade40486f9e4a42116975d323"
            ],
            "layout": "IPY_MODEL_9e12a31a9a274254a30ac923212a51aa"
          }
        },
        "a1ffac5d1d6b46c88056f1328d70d0e3": {
          "model_module": "@jupyter-widgets/controls",
          "model_name": "HTMLModel",
          "model_module_version": "1.5.0",
          "state": {
            "_dom_classes": [],
            "_model_module": "@jupyter-widgets/controls",
            "_model_module_version": "1.5.0",
            "_model_name": "HTMLModel",
            "_view_count": null,
            "_view_module": "@jupyter-widgets/controls",
            "_view_module_version": "1.5.0",
            "_view_name": "HTMLView",
            "description": "",
            "description_tooltip": null,
            "layout": "IPY_MODEL_615f89b5914a4ba0a255682e5551771e",
            "placeholder": "​",
            "style": "IPY_MODEL_c4d1991ef4684966bd09684249f5e583",
            "value": "config.json: 100%"
          }
        },
        "72db735a667f4e899474f3b5ea063045": {
          "model_module": "@jupyter-widgets/controls",
          "model_name": "FloatProgressModel",
          "model_module_version": "1.5.0",
          "state": {
            "_dom_classes": [],
            "_model_module": "@jupyter-widgets/controls",
            "_model_module_version": "1.5.0",
            "_model_name": "FloatProgressModel",
            "_view_count": null,
            "_view_module": "@jupyter-widgets/controls",
            "_view_module_version": "1.5.0",
            "_view_name": "ProgressView",
            "bar_style": "success",
            "description": "",
            "description_tooltip": null,
            "layout": "IPY_MODEL_cf0158d5f8b8481e8af73330cb669aaa",
            "max": 1585,
            "min": 0,
            "orientation": "horizontal",
            "style": "IPY_MODEL_4632097e34bf4738a2a2df73b8486ac2",
            "value": 1585
          }
        },
        "50460cfade40486f9e4a42116975d323": {
          "model_module": "@jupyter-widgets/controls",
          "model_name": "HTMLModel",
          "model_module_version": "1.5.0",
          "state": {
            "_dom_classes": [],
            "_model_module": "@jupyter-widgets/controls",
            "_model_module_version": "1.5.0",
            "_model_name": "HTMLModel",
            "_view_count": null,
            "_view_module": "@jupyter-widgets/controls",
            "_view_module_version": "1.5.0",
            "_view_name": "HTMLView",
            "description": "",
            "description_tooltip": null,
            "layout": "IPY_MODEL_cdcc6a6be360494ab0b82cca6aaa1d27",
            "placeholder": "​",
            "style": "IPY_MODEL_b1c9b3dccd2f4577af15fa79b872372f",
            "value": " 1.58k/1.58k [00:00&lt;00:00, 25.1kB/s]"
          }
        },
        "9e12a31a9a274254a30ac923212a51aa": {
          "model_module": "@jupyter-widgets/base",
          "model_name": "LayoutModel",
          "model_module_version": "1.2.0",
          "state": {
            "_model_module": "@jupyter-widgets/base",
            "_model_module_version": "1.2.0",
            "_model_name": "LayoutModel",
            "_view_count": null,
            "_view_module": "@jupyter-widgets/base",
            "_view_module_version": "1.2.0",
            "_view_name": "LayoutView",
            "align_content": null,
            "align_items": null,
            "align_self": null,
            "border": null,
            "bottom": null,
            "display": null,
            "flex": null,
            "flex_flow": null,
            "grid_area": null,
            "grid_auto_columns": null,
            "grid_auto_flow": null,
            "grid_auto_rows": null,
            "grid_column": null,
            "grid_gap": null,
            "grid_row": null,
            "grid_template_areas": null,
            "grid_template_columns": null,
            "grid_template_rows": null,
            "height": null,
            "justify_content": null,
            "justify_items": null,
            "left": null,
            "margin": null,
            "max_height": null,
            "max_width": null,
            "min_height": null,
            "min_width": null,
            "object_fit": null,
            "object_position": null,
            "order": null,
            "overflow": null,
            "overflow_x": null,
            "overflow_y": null,
            "padding": null,
            "right": null,
            "top": null,
            "visibility": null,
            "width": null
          }
        },
        "615f89b5914a4ba0a255682e5551771e": {
          "model_module": "@jupyter-widgets/base",
          "model_name": "LayoutModel",
          "model_module_version": "1.2.0",
          "state": {
            "_model_module": "@jupyter-widgets/base",
            "_model_module_version": "1.2.0",
            "_model_name": "LayoutModel",
            "_view_count": null,
            "_view_module": "@jupyter-widgets/base",
            "_view_module_version": "1.2.0",
            "_view_name": "LayoutView",
            "align_content": null,
            "align_items": null,
            "align_self": null,
            "border": null,
            "bottom": null,
            "display": null,
            "flex": null,
            "flex_flow": null,
            "grid_area": null,
            "grid_auto_columns": null,
            "grid_auto_flow": null,
            "grid_auto_rows": null,
            "grid_column": null,
            "grid_gap": null,
            "grid_row": null,
            "grid_template_areas": null,
            "grid_template_columns": null,
            "grid_template_rows": null,
            "height": null,
            "justify_content": null,
            "justify_items": null,
            "left": null,
            "margin": null,
            "max_height": null,
            "max_width": null,
            "min_height": null,
            "min_width": null,
            "object_fit": null,
            "object_position": null,
            "order": null,
            "overflow": null,
            "overflow_x": null,
            "overflow_y": null,
            "padding": null,
            "right": null,
            "top": null,
            "visibility": null,
            "width": null
          }
        },
        "c4d1991ef4684966bd09684249f5e583": {
          "model_module": "@jupyter-widgets/controls",
          "model_name": "DescriptionStyleModel",
          "model_module_version": "1.5.0",
          "state": {
            "_model_module": "@jupyter-widgets/controls",
            "_model_module_version": "1.5.0",
            "_model_name": "DescriptionStyleModel",
            "_view_count": null,
            "_view_module": "@jupyter-widgets/base",
            "_view_module_version": "1.2.0",
            "_view_name": "StyleView",
            "description_width": ""
          }
        },
        "cf0158d5f8b8481e8af73330cb669aaa": {
          "model_module": "@jupyter-widgets/base",
          "model_name": "LayoutModel",
          "model_module_version": "1.2.0",
          "state": {
            "_model_module": "@jupyter-widgets/base",
            "_model_module_version": "1.2.0",
            "_model_name": "LayoutModel",
            "_view_count": null,
            "_view_module": "@jupyter-widgets/base",
            "_view_module_version": "1.2.0",
            "_view_name": "LayoutView",
            "align_content": null,
            "align_items": null,
            "align_self": null,
            "border": null,
            "bottom": null,
            "display": null,
            "flex": null,
            "flex_flow": null,
            "grid_area": null,
            "grid_auto_columns": null,
            "grid_auto_flow": null,
            "grid_auto_rows": null,
            "grid_column": null,
            "grid_gap": null,
            "grid_row": null,
            "grid_template_areas": null,
            "grid_template_columns": null,
            "grid_template_rows": null,
            "height": null,
            "justify_content": null,
            "justify_items": null,
            "left": null,
            "margin": null,
            "max_height": null,
            "max_width": null,
            "min_height": null,
            "min_width": null,
            "object_fit": null,
            "object_position": null,
            "order": null,
            "overflow": null,
            "overflow_x": null,
            "overflow_y": null,
            "padding": null,
            "right": null,
            "top": null,
            "visibility": null,
            "width": null
          }
        },
        "4632097e34bf4738a2a2df73b8486ac2": {
          "model_module": "@jupyter-widgets/controls",
          "model_name": "ProgressStyleModel",
          "model_module_version": "1.5.0",
          "state": {
            "_model_module": "@jupyter-widgets/controls",
            "_model_module_version": "1.5.0",
            "_model_name": "ProgressStyleModel",
            "_view_count": null,
            "_view_module": "@jupyter-widgets/base",
            "_view_module_version": "1.2.0",
            "_view_name": "StyleView",
            "bar_color": null,
            "description_width": ""
          }
        },
        "cdcc6a6be360494ab0b82cca6aaa1d27": {
          "model_module": "@jupyter-widgets/base",
          "model_name": "LayoutModel",
          "model_module_version": "1.2.0",
          "state": {
            "_model_module": "@jupyter-widgets/base",
            "_model_module_version": "1.2.0",
            "_model_name": "LayoutModel",
            "_view_count": null,
            "_view_module": "@jupyter-widgets/base",
            "_view_module_version": "1.2.0",
            "_view_name": "LayoutView",
            "align_content": null,
            "align_items": null,
            "align_self": null,
            "border": null,
            "bottom": null,
            "display": null,
            "flex": null,
            "flex_flow": null,
            "grid_area": null,
            "grid_auto_columns": null,
            "grid_auto_flow": null,
            "grid_auto_rows": null,
            "grid_column": null,
            "grid_gap": null,
            "grid_row": null,
            "grid_template_areas": null,
            "grid_template_columns": null,
            "grid_template_rows": null,
            "height": null,
            "justify_content": null,
            "justify_items": null,
            "left": null,
            "margin": null,
            "max_height": null,
            "max_width": null,
            "min_height": null,
            "min_width": null,
            "object_fit": null,
            "object_position": null,
            "order": null,
            "overflow": null,
            "overflow_x": null,
            "overflow_y": null,
            "padding": null,
            "right": null,
            "top": null,
            "visibility": null,
            "width": null
          }
        },
        "b1c9b3dccd2f4577af15fa79b872372f": {
          "model_module": "@jupyter-widgets/controls",
          "model_name": "DescriptionStyleModel",
          "model_module_version": "1.5.0",
          "state": {
            "_model_module": "@jupyter-widgets/controls",
            "_model_module_version": "1.5.0",
            "_model_name": "DescriptionStyleModel",
            "_view_count": null,
            "_view_module": "@jupyter-widgets/base",
            "_view_module_version": "1.2.0",
            "_view_name": "StyleView",
            "description_width": ""
          }
        },
        "9333a782508147b4b209f331bd1b59e6": {
          "model_module": "@jupyter-widgets/controls",
          "model_name": "HBoxModel",
          "model_module_version": "1.5.0",
          "state": {
            "_dom_classes": [],
            "_model_module": "@jupyter-widgets/controls",
            "_model_module_version": "1.5.0",
            "_model_name": "HBoxModel",
            "_view_count": null,
            "_view_module": "@jupyter-widgets/controls",
            "_view_module_version": "1.5.0",
            "_view_name": "HBoxView",
            "box_style": "",
            "children": [
              "IPY_MODEL_c8aade00a4704b8382ceef4d9b8ff375",
              "IPY_MODEL_e51d80b85b15459b91d3d33581b8ba6f",
              "IPY_MODEL_cf56a23305d346ba8fb9b4886988d86d"
            ],
            "layout": "IPY_MODEL_8f423b2226064bd181752da59209aa8f"
          }
        },
        "c8aade00a4704b8382ceef4d9b8ff375": {
          "model_module": "@jupyter-widgets/controls",
          "model_name": "HTMLModel",
          "model_module_version": "1.5.0",
          "state": {
            "_dom_classes": [],
            "_model_module": "@jupyter-widgets/controls",
            "_model_module_version": "1.5.0",
            "_model_name": "HTMLModel",
            "_view_count": null,
            "_view_module": "@jupyter-widgets/controls",
            "_view_module_version": "1.5.0",
            "_view_name": "HTMLView",
            "description": "",
            "description_tooltip": null,
            "layout": "IPY_MODEL_6745fff12e15404ebecc5c707df24d16",
            "placeholder": "​",
            "style": "IPY_MODEL_23d9d4c89c814a75b96e551c8dbc8431",
            "value": "model.safetensors: 100%"
          }
        },
        "e51d80b85b15459b91d3d33581b8ba6f": {
          "model_module": "@jupyter-widgets/controls",
          "model_name": "FloatProgressModel",
          "model_module_version": "1.5.0",
          "state": {
            "_dom_classes": [],
            "_model_module": "@jupyter-widgets/controls",
            "_model_module_version": "1.5.0",
            "_model_name": "FloatProgressModel",
            "_view_count": null,
            "_view_module": "@jupyter-widgets/controls",
            "_view_module_version": "1.5.0",
            "_view_name": "ProgressView",
            "bar_style": "success",
            "description": "",
            "description_tooltip": null,
            "layout": "IPY_MODEL_54fea09fc0a343d9bd3d438fc36428d0",
            "max": 1625222120,
            "min": 0,
            "orientation": "horizontal",
            "style": "IPY_MODEL_13f7791d09d74263a27c517d171e6610",
            "value": 1625222120
          }
        },
        "cf56a23305d346ba8fb9b4886988d86d": {
          "model_module": "@jupyter-widgets/controls",
          "model_name": "HTMLModel",
          "model_module_version": "1.5.0",
          "state": {
            "_dom_classes": [],
            "_model_module": "@jupyter-widgets/controls",
            "_model_module_version": "1.5.0",
            "_model_name": "HTMLModel",
            "_view_count": null,
            "_view_module": "@jupyter-widgets/controls",
            "_view_module_version": "1.5.0",
            "_view_name": "HTMLView",
            "description": "",
            "description_tooltip": null,
            "layout": "IPY_MODEL_63f52da00f094c19baa0e00e0096a1ad",
            "placeholder": "​",
            "style": "IPY_MODEL_3c15d4d19cce4d8fae4d4efb7b8dccc5",
            "value": " 1.63G/1.63G [00:19&lt;00:00, 106MB/s]"
          }
        },
        "8f423b2226064bd181752da59209aa8f": {
          "model_module": "@jupyter-widgets/base",
          "model_name": "LayoutModel",
          "model_module_version": "1.2.0",
          "state": {
            "_model_module": "@jupyter-widgets/base",
            "_model_module_version": "1.2.0",
            "_model_name": "LayoutModel",
            "_view_count": null,
            "_view_module": "@jupyter-widgets/base",
            "_view_module_version": "1.2.0",
            "_view_name": "LayoutView",
            "align_content": null,
            "align_items": null,
            "align_self": null,
            "border": null,
            "bottom": null,
            "display": null,
            "flex": null,
            "flex_flow": null,
            "grid_area": null,
            "grid_auto_columns": null,
            "grid_auto_flow": null,
            "grid_auto_rows": null,
            "grid_column": null,
            "grid_gap": null,
            "grid_row": null,
            "grid_template_areas": null,
            "grid_template_columns": null,
            "grid_template_rows": null,
            "height": null,
            "justify_content": null,
            "justify_items": null,
            "left": null,
            "margin": null,
            "max_height": null,
            "max_width": null,
            "min_height": null,
            "min_width": null,
            "object_fit": null,
            "object_position": null,
            "order": null,
            "overflow": null,
            "overflow_x": null,
            "overflow_y": null,
            "padding": null,
            "right": null,
            "top": null,
            "visibility": null,
            "width": null
          }
        },
        "6745fff12e15404ebecc5c707df24d16": {
          "model_module": "@jupyter-widgets/base",
          "model_name": "LayoutModel",
          "model_module_version": "1.2.0",
          "state": {
            "_model_module": "@jupyter-widgets/base",
            "_model_module_version": "1.2.0",
            "_model_name": "LayoutModel",
            "_view_count": null,
            "_view_module": "@jupyter-widgets/base",
            "_view_module_version": "1.2.0",
            "_view_name": "LayoutView",
            "align_content": null,
            "align_items": null,
            "align_self": null,
            "border": null,
            "bottom": null,
            "display": null,
            "flex": null,
            "flex_flow": null,
            "grid_area": null,
            "grid_auto_columns": null,
            "grid_auto_flow": null,
            "grid_auto_rows": null,
            "grid_column": null,
            "grid_gap": null,
            "grid_row": null,
            "grid_template_areas": null,
            "grid_template_columns": null,
            "grid_template_rows": null,
            "height": null,
            "justify_content": null,
            "justify_items": null,
            "left": null,
            "margin": null,
            "max_height": null,
            "max_width": null,
            "min_height": null,
            "min_width": null,
            "object_fit": null,
            "object_position": null,
            "order": null,
            "overflow": null,
            "overflow_x": null,
            "overflow_y": null,
            "padding": null,
            "right": null,
            "top": null,
            "visibility": null,
            "width": null
          }
        },
        "23d9d4c89c814a75b96e551c8dbc8431": {
          "model_module": "@jupyter-widgets/controls",
          "model_name": "DescriptionStyleModel",
          "model_module_version": "1.5.0",
          "state": {
            "_model_module": "@jupyter-widgets/controls",
            "_model_module_version": "1.5.0",
            "_model_name": "DescriptionStyleModel",
            "_view_count": null,
            "_view_module": "@jupyter-widgets/base",
            "_view_module_version": "1.2.0",
            "_view_name": "StyleView",
            "description_width": ""
          }
        },
        "54fea09fc0a343d9bd3d438fc36428d0": {
          "model_module": "@jupyter-widgets/base",
          "model_name": "LayoutModel",
          "model_module_version": "1.2.0",
          "state": {
            "_model_module": "@jupyter-widgets/base",
            "_model_module_version": "1.2.0",
            "_model_name": "LayoutModel",
            "_view_count": null,
            "_view_module": "@jupyter-widgets/base",
            "_view_module_version": "1.2.0",
            "_view_name": "LayoutView",
            "align_content": null,
            "align_items": null,
            "align_self": null,
            "border": null,
            "bottom": null,
            "display": null,
            "flex": null,
            "flex_flow": null,
            "grid_area": null,
            "grid_auto_columns": null,
            "grid_auto_flow": null,
            "grid_auto_rows": null,
            "grid_column": null,
            "grid_gap": null,
            "grid_row": null,
            "grid_template_areas": null,
            "grid_template_columns": null,
            "grid_template_rows": null,
            "height": null,
            "justify_content": null,
            "justify_items": null,
            "left": null,
            "margin": null,
            "max_height": null,
            "max_width": null,
            "min_height": null,
            "min_width": null,
            "object_fit": null,
            "object_position": null,
            "order": null,
            "overflow": null,
            "overflow_x": null,
            "overflow_y": null,
            "padding": null,
            "right": null,
            "top": null,
            "visibility": null,
            "width": null
          }
        },
        "13f7791d09d74263a27c517d171e6610": {
          "model_module": "@jupyter-widgets/controls",
          "model_name": "ProgressStyleModel",
          "model_module_version": "1.5.0",
          "state": {
            "_model_module": "@jupyter-widgets/controls",
            "_model_module_version": "1.5.0",
            "_model_name": "ProgressStyleModel",
            "_view_count": null,
            "_view_module": "@jupyter-widgets/base",
            "_view_module_version": "1.2.0",
            "_view_name": "StyleView",
            "bar_color": null,
            "description_width": ""
          }
        },
        "63f52da00f094c19baa0e00e0096a1ad": {
          "model_module": "@jupyter-widgets/base",
          "model_name": "LayoutModel",
          "model_module_version": "1.2.0",
          "state": {
            "_model_module": "@jupyter-widgets/base",
            "_model_module_version": "1.2.0",
            "_model_name": "LayoutModel",
            "_view_count": null,
            "_view_module": "@jupyter-widgets/base",
            "_view_module_version": "1.2.0",
            "_view_name": "LayoutView",
            "align_content": null,
            "align_items": null,
            "align_self": null,
            "border": null,
            "bottom": null,
            "display": null,
            "flex": null,
            "flex_flow": null,
            "grid_area": null,
            "grid_auto_columns": null,
            "grid_auto_flow": null,
            "grid_auto_rows": null,
            "grid_column": null,
            "grid_gap": null,
            "grid_row": null,
            "grid_template_areas": null,
            "grid_template_columns": null,
            "grid_template_rows": null,
            "height": null,
            "justify_content": null,
            "justify_items": null,
            "left": null,
            "margin": null,
            "max_height": null,
            "max_width": null,
            "min_height": null,
            "min_width": null,
            "object_fit": null,
            "object_position": null,
            "order": null,
            "overflow": null,
            "overflow_x": null,
            "overflow_y": null,
            "padding": null,
            "right": null,
            "top": null,
            "visibility": null,
            "width": null
          }
        },
        "3c15d4d19cce4d8fae4d4efb7b8dccc5": {
          "model_module": "@jupyter-widgets/controls",
          "model_name": "DescriptionStyleModel",
          "model_module_version": "1.5.0",
          "state": {
            "_model_module": "@jupyter-widgets/controls",
            "_model_module_version": "1.5.0",
            "_model_name": "DescriptionStyleModel",
            "_view_count": null,
            "_view_module": "@jupyter-widgets/base",
            "_view_module_version": "1.2.0",
            "_view_name": "StyleView",
            "description_width": ""
          }
        },
        "8ff3a008aa244c8db04e13a8fee3f0b1": {
          "model_module": "@jupyter-widgets/controls",
          "model_name": "HBoxModel",
          "model_module_version": "1.5.0",
          "state": {
            "_dom_classes": [],
            "_model_module": "@jupyter-widgets/controls",
            "_model_module_version": "1.5.0",
            "_model_name": "HBoxModel",
            "_view_count": null,
            "_view_module": "@jupyter-widgets/controls",
            "_view_module_version": "1.5.0",
            "_view_name": "HBoxView",
            "box_style": "",
            "children": [
              "IPY_MODEL_555fd52a6d8a4f329a52807955843014",
              "IPY_MODEL_5ebcd10f3d8d471f8d48dfa936fd50e5",
              "IPY_MODEL_0fc7748e9bfd4c718643cdf7d3314e3f"
            ],
            "layout": "IPY_MODEL_02912d3b3f9b49f286baecd61d9de87e"
          }
        },
        "555fd52a6d8a4f329a52807955843014": {
          "model_module": "@jupyter-widgets/controls",
          "model_name": "HTMLModel",
          "model_module_version": "1.5.0",
          "state": {
            "_dom_classes": [],
            "_model_module": "@jupyter-widgets/controls",
            "_model_module_version": "1.5.0",
            "_model_name": "HTMLModel",
            "_view_count": null,
            "_view_module": "@jupyter-widgets/controls",
            "_view_module_version": "1.5.0",
            "_view_name": "HTMLView",
            "description": "",
            "description_tooltip": null,
            "layout": "IPY_MODEL_aac05928330540e699c04ab6f7f01b8e",
            "placeholder": "​",
            "style": "IPY_MODEL_70c3372435e34c07a823262bc76fb00c",
            "value": "generation_config.json: 100%"
          }
        },
        "5ebcd10f3d8d471f8d48dfa936fd50e5": {
          "model_module": "@jupyter-widgets/controls",
          "model_name": "FloatProgressModel",
          "model_module_version": "1.5.0",
          "state": {
            "_dom_classes": [],
            "_model_module": "@jupyter-widgets/controls",
            "_model_module_version": "1.5.0",
            "_model_name": "FloatProgressModel",
            "_view_count": null,
            "_view_module": "@jupyter-widgets/controls",
            "_view_module_version": "1.5.0",
            "_view_name": "ProgressView",
            "bar_style": "success",
            "description": "",
            "description_tooltip": null,
            "layout": "IPY_MODEL_560097cf51b3419ca97d29884a31774f",
            "max": 363,
            "min": 0,
            "orientation": "horizontal",
            "style": "IPY_MODEL_8a76ce01faf6490e91b34b99517ec699",
            "value": 363
          }
        },
        "0fc7748e9bfd4c718643cdf7d3314e3f": {
          "model_module": "@jupyter-widgets/controls",
          "model_name": "HTMLModel",
          "model_module_version": "1.5.0",
          "state": {
            "_dom_classes": [],
            "_model_module": "@jupyter-widgets/controls",
            "_model_module_version": "1.5.0",
            "_model_name": "HTMLModel",
            "_view_count": null,
            "_view_module": "@jupyter-widgets/controls",
            "_view_module_version": "1.5.0",
            "_view_name": "HTMLView",
            "description": "",
            "description_tooltip": null,
            "layout": "IPY_MODEL_3d98b1d9c4d144f4b07b94f44cd2c8ba",
            "placeholder": "​",
            "style": "IPY_MODEL_a5b8f908a4e44c35851e841a1a560dd4",
            "value": " 363/363 [00:00&lt;00:00, 9.25kB/s]"
          }
        },
        "02912d3b3f9b49f286baecd61d9de87e": {
          "model_module": "@jupyter-widgets/base",
          "model_name": "LayoutModel",
          "model_module_version": "1.2.0",
          "state": {
            "_model_module": "@jupyter-widgets/base",
            "_model_module_version": "1.2.0",
            "_model_name": "LayoutModel",
            "_view_count": null,
            "_view_module": "@jupyter-widgets/base",
            "_view_module_version": "1.2.0",
            "_view_name": "LayoutView",
            "align_content": null,
            "align_items": null,
            "align_self": null,
            "border": null,
            "bottom": null,
            "display": null,
            "flex": null,
            "flex_flow": null,
            "grid_area": null,
            "grid_auto_columns": null,
            "grid_auto_flow": null,
            "grid_auto_rows": null,
            "grid_column": null,
            "grid_gap": null,
            "grid_row": null,
            "grid_template_areas": null,
            "grid_template_columns": null,
            "grid_template_rows": null,
            "height": null,
            "justify_content": null,
            "justify_items": null,
            "left": null,
            "margin": null,
            "max_height": null,
            "max_width": null,
            "min_height": null,
            "min_width": null,
            "object_fit": null,
            "object_position": null,
            "order": null,
            "overflow": null,
            "overflow_x": null,
            "overflow_y": null,
            "padding": null,
            "right": null,
            "top": null,
            "visibility": null,
            "width": null
          }
        },
        "aac05928330540e699c04ab6f7f01b8e": {
          "model_module": "@jupyter-widgets/base",
          "model_name": "LayoutModel",
          "model_module_version": "1.2.0",
          "state": {
            "_model_module": "@jupyter-widgets/base",
            "_model_module_version": "1.2.0",
            "_model_name": "LayoutModel",
            "_view_count": null,
            "_view_module": "@jupyter-widgets/base",
            "_view_module_version": "1.2.0",
            "_view_name": "LayoutView",
            "align_content": null,
            "align_items": null,
            "align_self": null,
            "border": null,
            "bottom": null,
            "display": null,
            "flex": null,
            "flex_flow": null,
            "grid_area": null,
            "grid_auto_columns": null,
            "grid_auto_flow": null,
            "grid_auto_rows": null,
            "grid_column": null,
            "grid_gap": null,
            "grid_row": null,
            "grid_template_areas": null,
            "grid_template_columns": null,
            "grid_template_rows": null,
            "height": null,
            "justify_content": null,
            "justify_items": null,
            "left": null,
            "margin": null,
            "max_height": null,
            "max_width": null,
            "min_height": null,
            "min_width": null,
            "object_fit": null,
            "object_position": null,
            "order": null,
            "overflow": null,
            "overflow_x": null,
            "overflow_y": null,
            "padding": null,
            "right": null,
            "top": null,
            "visibility": null,
            "width": null
          }
        },
        "70c3372435e34c07a823262bc76fb00c": {
          "model_module": "@jupyter-widgets/controls",
          "model_name": "DescriptionStyleModel",
          "model_module_version": "1.5.0",
          "state": {
            "_model_module": "@jupyter-widgets/controls",
            "_model_module_version": "1.5.0",
            "_model_name": "DescriptionStyleModel",
            "_view_count": null,
            "_view_module": "@jupyter-widgets/base",
            "_view_module_version": "1.2.0",
            "_view_name": "StyleView",
            "description_width": ""
          }
        },
        "560097cf51b3419ca97d29884a31774f": {
          "model_module": "@jupyter-widgets/base",
          "model_name": "LayoutModel",
          "model_module_version": "1.2.0",
          "state": {
            "_model_module": "@jupyter-widgets/base",
            "_model_module_version": "1.2.0",
            "_model_name": "LayoutModel",
            "_view_count": null,
            "_view_module": "@jupyter-widgets/base",
            "_view_module_version": "1.2.0",
            "_view_name": "LayoutView",
            "align_content": null,
            "align_items": null,
            "align_self": null,
            "border": null,
            "bottom": null,
            "display": null,
            "flex": null,
            "flex_flow": null,
            "grid_area": null,
            "grid_auto_columns": null,
            "grid_auto_flow": null,
            "grid_auto_rows": null,
            "grid_column": null,
            "grid_gap": null,
            "grid_row": null,
            "grid_template_areas": null,
            "grid_template_columns": null,
            "grid_template_rows": null,
            "height": null,
            "justify_content": null,
            "justify_items": null,
            "left": null,
            "margin": null,
            "max_height": null,
            "max_width": null,
            "min_height": null,
            "min_width": null,
            "object_fit": null,
            "object_position": null,
            "order": null,
            "overflow": null,
            "overflow_x": null,
            "overflow_y": null,
            "padding": null,
            "right": null,
            "top": null,
            "visibility": null,
            "width": null
          }
        },
        "8a76ce01faf6490e91b34b99517ec699": {
          "model_module": "@jupyter-widgets/controls",
          "model_name": "ProgressStyleModel",
          "model_module_version": "1.5.0",
          "state": {
            "_model_module": "@jupyter-widgets/controls",
            "_model_module_version": "1.5.0",
            "_model_name": "ProgressStyleModel",
            "_view_count": null,
            "_view_module": "@jupyter-widgets/base",
            "_view_module_version": "1.2.0",
            "_view_name": "StyleView",
            "bar_color": null,
            "description_width": ""
          }
        },
        "3d98b1d9c4d144f4b07b94f44cd2c8ba": {
          "model_module": "@jupyter-widgets/base",
          "model_name": "LayoutModel",
          "model_module_version": "1.2.0",
          "state": {
            "_model_module": "@jupyter-widgets/base",
            "_model_module_version": "1.2.0",
            "_model_name": "LayoutModel",
            "_view_count": null,
            "_view_module": "@jupyter-widgets/base",
            "_view_module_version": "1.2.0",
            "_view_name": "LayoutView",
            "align_content": null,
            "align_items": null,
            "align_self": null,
            "border": null,
            "bottom": null,
            "display": null,
            "flex": null,
            "flex_flow": null,
            "grid_area": null,
            "grid_auto_columns": null,
            "grid_auto_flow": null,
            "grid_auto_rows": null,
            "grid_column": null,
            "grid_gap": null,
            "grid_row": null,
            "grid_template_areas": null,
            "grid_template_columns": null,
            "grid_template_rows": null,
            "height": null,
            "justify_content": null,
            "justify_items": null,
            "left": null,
            "margin": null,
            "max_height": null,
            "max_width": null,
            "min_height": null,
            "min_width": null,
            "object_fit": null,
            "object_position": null,
            "order": null,
            "overflow": null,
            "overflow_x": null,
            "overflow_y": null,
            "padding": null,
            "right": null,
            "top": null,
            "visibility": null,
            "width": null
          }
        },
        "a5b8f908a4e44c35851e841a1a560dd4": {
          "model_module": "@jupyter-widgets/controls",
          "model_name": "DescriptionStyleModel",
          "model_module_version": "1.5.0",
          "state": {
            "_model_module": "@jupyter-widgets/controls",
            "_model_module_version": "1.5.0",
            "_model_name": "DescriptionStyleModel",
            "_view_count": null,
            "_view_module": "@jupyter-widgets/base",
            "_view_module_version": "1.2.0",
            "_view_name": "StyleView",
            "description_width": ""
          }
        },
        "87a048821676477d93378b01740b21ed": {
          "model_module": "@jupyter-widgets/controls",
          "model_name": "HBoxModel",
          "model_module_version": "1.5.0",
          "state": {
            "_dom_classes": [],
            "_model_module": "@jupyter-widgets/controls",
            "_model_module_version": "1.5.0",
            "_model_name": "HBoxModel",
            "_view_count": null,
            "_view_module": "@jupyter-widgets/controls",
            "_view_module_version": "1.5.0",
            "_view_name": "HBoxView",
            "box_style": "",
            "children": [
              "IPY_MODEL_196933d772f44ff1af479b44f0bd4166",
              "IPY_MODEL_85e1003dc47c43128fb4e04653ccf7e9",
              "IPY_MODEL_6f91bdca9bff4496994fda6d578b91f5"
            ],
            "layout": "IPY_MODEL_eabb55a9a8a04cb9bc77e1a29adca19e"
          }
        },
        "196933d772f44ff1af479b44f0bd4166": {
          "model_module": "@jupyter-widgets/controls",
          "model_name": "HTMLModel",
          "model_module_version": "1.5.0",
          "state": {
            "_dom_classes": [],
            "_model_module": "@jupyter-widgets/controls",
            "_model_module_version": "1.5.0",
            "_model_name": "HTMLModel",
            "_view_count": null,
            "_view_module": "@jupyter-widgets/controls",
            "_view_module_version": "1.5.0",
            "_view_name": "HTMLView",
            "description": "",
            "description_tooltip": null,
            "layout": "IPY_MODEL_d3a0cb6567ac47b1921afc8c12287754",
            "placeholder": "​",
            "style": "IPY_MODEL_86747394d4b648289446b4b015249fb1",
            "value": "vocab.json: 100%"
          }
        },
        "85e1003dc47c43128fb4e04653ccf7e9": {
          "model_module": "@jupyter-widgets/controls",
          "model_name": "FloatProgressModel",
          "model_module_version": "1.5.0",
          "state": {
            "_dom_classes": [],
            "_model_module": "@jupyter-widgets/controls",
            "_model_module_version": "1.5.0",
            "_model_name": "FloatProgressModel",
            "_view_count": null,
            "_view_module": "@jupyter-widgets/controls",
            "_view_module_version": "1.5.0",
            "_view_name": "ProgressView",
            "bar_style": "success",
            "description": "",
            "description_tooltip": null,
            "layout": "IPY_MODEL_63264c2493a24df9a52f1de707042c8e",
            "max": 898823,
            "min": 0,
            "orientation": "horizontal",
            "style": "IPY_MODEL_826d0267b8a34d5ca1f335755e468e20",
            "value": 898823
          }
        },
        "6f91bdca9bff4496994fda6d578b91f5": {
          "model_module": "@jupyter-widgets/controls",
          "model_name": "HTMLModel",
          "model_module_version": "1.5.0",
          "state": {
            "_dom_classes": [],
            "_model_module": "@jupyter-widgets/controls",
            "_model_module_version": "1.5.0",
            "_model_name": "HTMLModel",
            "_view_count": null,
            "_view_module": "@jupyter-widgets/controls",
            "_view_module_version": "1.5.0",
            "_view_name": "HTMLView",
            "description": "",
            "description_tooltip": null,
            "layout": "IPY_MODEL_6957a9a6316743e9be00f863030d7dad",
            "placeholder": "​",
            "style": "IPY_MODEL_6e1af98107c64636ab9decd072802a1b",
            "value": " 899k/899k [00:00&lt;00:00, 5.15MB/s]"
          }
        },
        "eabb55a9a8a04cb9bc77e1a29adca19e": {
          "model_module": "@jupyter-widgets/base",
          "model_name": "LayoutModel",
          "model_module_version": "1.2.0",
          "state": {
            "_model_module": "@jupyter-widgets/base",
            "_model_module_version": "1.2.0",
            "_model_name": "LayoutModel",
            "_view_count": null,
            "_view_module": "@jupyter-widgets/base",
            "_view_module_version": "1.2.0",
            "_view_name": "LayoutView",
            "align_content": null,
            "align_items": null,
            "align_self": null,
            "border": null,
            "bottom": null,
            "display": null,
            "flex": null,
            "flex_flow": null,
            "grid_area": null,
            "grid_auto_columns": null,
            "grid_auto_flow": null,
            "grid_auto_rows": null,
            "grid_column": null,
            "grid_gap": null,
            "grid_row": null,
            "grid_template_areas": null,
            "grid_template_columns": null,
            "grid_template_rows": null,
            "height": null,
            "justify_content": null,
            "justify_items": null,
            "left": null,
            "margin": null,
            "max_height": null,
            "max_width": null,
            "min_height": null,
            "min_width": null,
            "object_fit": null,
            "object_position": null,
            "order": null,
            "overflow": null,
            "overflow_x": null,
            "overflow_y": null,
            "padding": null,
            "right": null,
            "top": null,
            "visibility": null,
            "width": null
          }
        },
        "d3a0cb6567ac47b1921afc8c12287754": {
          "model_module": "@jupyter-widgets/base",
          "model_name": "LayoutModel",
          "model_module_version": "1.2.0",
          "state": {
            "_model_module": "@jupyter-widgets/base",
            "_model_module_version": "1.2.0",
            "_model_name": "LayoutModel",
            "_view_count": null,
            "_view_module": "@jupyter-widgets/base",
            "_view_module_version": "1.2.0",
            "_view_name": "LayoutView",
            "align_content": null,
            "align_items": null,
            "align_self": null,
            "border": null,
            "bottom": null,
            "display": null,
            "flex": null,
            "flex_flow": null,
            "grid_area": null,
            "grid_auto_columns": null,
            "grid_auto_flow": null,
            "grid_auto_rows": null,
            "grid_column": null,
            "grid_gap": null,
            "grid_row": null,
            "grid_template_areas": null,
            "grid_template_columns": null,
            "grid_template_rows": null,
            "height": null,
            "justify_content": null,
            "justify_items": null,
            "left": null,
            "margin": null,
            "max_height": null,
            "max_width": null,
            "min_height": null,
            "min_width": null,
            "object_fit": null,
            "object_position": null,
            "order": null,
            "overflow": null,
            "overflow_x": null,
            "overflow_y": null,
            "padding": null,
            "right": null,
            "top": null,
            "visibility": null,
            "width": null
          }
        },
        "86747394d4b648289446b4b015249fb1": {
          "model_module": "@jupyter-widgets/controls",
          "model_name": "DescriptionStyleModel",
          "model_module_version": "1.5.0",
          "state": {
            "_model_module": "@jupyter-widgets/controls",
            "_model_module_version": "1.5.0",
            "_model_name": "DescriptionStyleModel",
            "_view_count": null,
            "_view_module": "@jupyter-widgets/base",
            "_view_module_version": "1.2.0",
            "_view_name": "StyleView",
            "description_width": ""
          }
        },
        "63264c2493a24df9a52f1de707042c8e": {
          "model_module": "@jupyter-widgets/base",
          "model_name": "LayoutModel",
          "model_module_version": "1.2.0",
          "state": {
            "_model_module": "@jupyter-widgets/base",
            "_model_module_version": "1.2.0",
            "_model_name": "LayoutModel",
            "_view_count": null,
            "_view_module": "@jupyter-widgets/base",
            "_view_module_version": "1.2.0",
            "_view_name": "LayoutView",
            "align_content": null,
            "align_items": null,
            "align_self": null,
            "border": null,
            "bottom": null,
            "display": null,
            "flex": null,
            "flex_flow": null,
            "grid_area": null,
            "grid_auto_columns": null,
            "grid_auto_flow": null,
            "grid_auto_rows": null,
            "grid_column": null,
            "grid_gap": null,
            "grid_row": null,
            "grid_template_areas": null,
            "grid_template_columns": null,
            "grid_template_rows": null,
            "height": null,
            "justify_content": null,
            "justify_items": null,
            "left": null,
            "margin": null,
            "max_height": null,
            "max_width": null,
            "min_height": null,
            "min_width": null,
            "object_fit": null,
            "object_position": null,
            "order": null,
            "overflow": null,
            "overflow_x": null,
            "overflow_y": null,
            "padding": null,
            "right": null,
            "top": null,
            "visibility": null,
            "width": null
          }
        },
        "826d0267b8a34d5ca1f335755e468e20": {
          "model_module": "@jupyter-widgets/controls",
          "model_name": "ProgressStyleModel",
          "model_module_version": "1.5.0",
          "state": {
            "_model_module": "@jupyter-widgets/controls",
            "_model_module_version": "1.5.0",
            "_model_name": "ProgressStyleModel",
            "_view_count": null,
            "_view_module": "@jupyter-widgets/base",
            "_view_module_version": "1.2.0",
            "_view_name": "StyleView",
            "bar_color": null,
            "description_width": ""
          }
        },
        "6957a9a6316743e9be00f863030d7dad": {
          "model_module": "@jupyter-widgets/base",
          "model_name": "LayoutModel",
          "model_module_version": "1.2.0",
          "state": {
            "_model_module": "@jupyter-widgets/base",
            "_model_module_version": "1.2.0",
            "_model_name": "LayoutModel",
            "_view_count": null,
            "_view_module": "@jupyter-widgets/base",
            "_view_module_version": "1.2.0",
            "_view_name": "LayoutView",
            "align_content": null,
            "align_items": null,
            "align_self": null,
            "border": null,
            "bottom": null,
            "display": null,
            "flex": null,
            "flex_flow": null,
            "grid_area": null,
            "grid_auto_columns": null,
            "grid_auto_flow": null,
            "grid_auto_rows": null,
            "grid_column": null,
            "grid_gap": null,
            "grid_row": null,
            "grid_template_areas": null,
            "grid_template_columns": null,
            "grid_template_rows": null,
            "height": null,
            "justify_content": null,
            "justify_items": null,
            "left": null,
            "margin": null,
            "max_height": null,
            "max_width": null,
            "min_height": null,
            "min_width": null,
            "object_fit": null,
            "object_position": null,
            "order": null,
            "overflow": null,
            "overflow_x": null,
            "overflow_y": null,
            "padding": null,
            "right": null,
            "top": null,
            "visibility": null,
            "width": null
          }
        },
        "6e1af98107c64636ab9decd072802a1b": {
          "model_module": "@jupyter-widgets/controls",
          "model_name": "DescriptionStyleModel",
          "model_module_version": "1.5.0",
          "state": {
            "_model_module": "@jupyter-widgets/controls",
            "_model_module_version": "1.5.0",
            "_model_name": "DescriptionStyleModel",
            "_view_count": null,
            "_view_module": "@jupyter-widgets/base",
            "_view_module_version": "1.2.0",
            "_view_name": "StyleView",
            "description_width": ""
          }
        },
        "f75bde403f4d4f568e890e975a6429e3": {
          "model_module": "@jupyter-widgets/controls",
          "model_name": "HBoxModel",
          "model_module_version": "1.5.0",
          "state": {
            "_dom_classes": [],
            "_model_module": "@jupyter-widgets/controls",
            "_model_module_version": "1.5.0",
            "_model_name": "HBoxModel",
            "_view_count": null,
            "_view_module": "@jupyter-widgets/controls",
            "_view_module_version": "1.5.0",
            "_view_name": "HBoxView",
            "box_style": "",
            "children": [
              "IPY_MODEL_d3de2789208743f7a69b6bd2cad0ca12",
              "IPY_MODEL_adcb4c885aa14f3d822f5b25a5c6b0e4",
              "IPY_MODEL_42ffe24767334d14b6956eb7e5f9c30b"
            ],
            "layout": "IPY_MODEL_70eb0ee1ea3e4a88a89c15cd9ae297b2"
          }
        },
        "d3de2789208743f7a69b6bd2cad0ca12": {
          "model_module": "@jupyter-widgets/controls",
          "model_name": "HTMLModel",
          "model_module_version": "1.5.0",
          "state": {
            "_dom_classes": [],
            "_model_module": "@jupyter-widgets/controls",
            "_model_module_version": "1.5.0",
            "_model_name": "HTMLModel",
            "_view_count": null,
            "_view_module": "@jupyter-widgets/controls",
            "_view_module_version": "1.5.0",
            "_view_name": "HTMLView",
            "description": "",
            "description_tooltip": null,
            "layout": "IPY_MODEL_a74b77f070f14c0fb234c92f0a8c362e",
            "placeholder": "​",
            "style": "IPY_MODEL_a1d2769cc67041fd86673870af8e49b6",
            "value": "merges.txt: 100%"
          }
        },
        "adcb4c885aa14f3d822f5b25a5c6b0e4": {
          "model_module": "@jupyter-widgets/controls",
          "model_name": "FloatProgressModel",
          "model_module_version": "1.5.0",
          "state": {
            "_dom_classes": [],
            "_model_module": "@jupyter-widgets/controls",
            "_model_module_version": "1.5.0",
            "_model_name": "FloatProgressModel",
            "_view_count": null,
            "_view_module": "@jupyter-widgets/controls",
            "_view_module_version": "1.5.0",
            "_view_name": "ProgressView",
            "bar_style": "success",
            "description": "",
            "description_tooltip": null,
            "layout": "IPY_MODEL_66a3a870c56b4d3eab7b5911d2b9becc",
            "max": 456318,
            "min": 0,
            "orientation": "horizontal",
            "style": "IPY_MODEL_e6aef4a96a6f441d8d328b06d0a20608",
            "value": 456318
          }
        },
        "42ffe24767334d14b6956eb7e5f9c30b": {
          "model_module": "@jupyter-widgets/controls",
          "model_name": "HTMLModel",
          "model_module_version": "1.5.0",
          "state": {
            "_dom_classes": [],
            "_model_module": "@jupyter-widgets/controls",
            "_model_module_version": "1.5.0",
            "_model_name": "HTMLModel",
            "_view_count": null,
            "_view_module": "@jupyter-widgets/controls",
            "_view_module_version": "1.5.0",
            "_view_name": "HTMLView",
            "description": "",
            "description_tooltip": null,
            "layout": "IPY_MODEL_2b80a5cf08f642469eea017100151c49",
            "placeholder": "​",
            "style": "IPY_MODEL_a561ac393e2a4be9bcf9c951c715b028",
            "value": " 456k/456k [00:00&lt;00:00, 8.08MB/s]"
          }
        },
        "70eb0ee1ea3e4a88a89c15cd9ae297b2": {
          "model_module": "@jupyter-widgets/base",
          "model_name": "LayoutModel",
          "model_module_version": "1.2.0",
          "state": {
            "_model_module": "@jupyter-widgets/base",
            "_model_module_version": "1.2.0",
            "_model_name": "LayoutModel",
            "_view_count": null,
            "_view_module": "@jupyter-widgets/base",
            "_view_module_version": "1.2.0",
            "_view_name": "LayoutView",
            "align_content": null,
            "align_items": null,
            "align_self": null,
            "border": null,
            "bottom": null,
            "display": null,
            "flex": null,
            "flex_flow": null,
            "grid_area": null,
            "grid_auto_columns": null,
            "grid_auto_flow": null,
            "grid_auto_rows": null,
            "grid_column": null,
            "grid_gap": null,
            "grid_row": null,
            "grid_template_areas": null,
            "grid_template_columns": null,
            "grid_template_rows": null,
            "height": null,
            "justify_content": null,
            "justify_items": null,
            "left": null,
            "margin": null,
            "max_height": null,
            "max_width": null,
            "min_height": null,
            "min_width": null,
            "object_fit": null,
            "object_position": null,
            "order": null,
            "overflow": null,
            "overflow_x": null,
            "overflow_y": null,
            "padding": null,
            "right": null,
            "top": null,
            "visibility": null,
            "width": null
          }
        },
        "a74b77f070f14c0fb234c92f0a8c362e": {
          "model_module": "@jupyter-widgets/base",
          "model_name": "LayoutModel",
          "model_module_version": "1.2.0",
          "state": {
            "_model_module": "@jupyter-widgets/base",
            "_model_module_version": "1.2.0",
            "_model_name": "LayoutModel",
            "_view_count": null,
            "_view_module": "@jupyter-widgets/base",
            "_view_module_version": "1.2.0",
            "_view_name": "LayoutView",
            "align_content": null,
            "align_items": null,
            "align_self": null,
            "border": null,
            "bottom": null,
            "display": null,
            "flex": null,
            "flex_flow": null,
            "grid_area": null,
            "grid_auto_columns": null,
            "grid_auto_flow": null,
            "grid_auto_rows": null,
            "grid_column": null,
            "grid_gap": null,
            "grid_row": null,
            "grid_template_areas": null,
            "grid_template_columns": null,
            "grid_template_rows": null,
            "height": null,
            "justify_content": null,
            "justify_items": null,
            "left": null,
            "margin": null,
            "max_height": null,
            "max_width": null,
            "min_height": null,
            "min_width": null,
            "object_fit": null,
            "object_position": null,
            "order": null,
            "overflow": null,
            "overflow_x": null,
            "overflow_y": null,
            "padding": null,
            "right": null,
            "top": null,
            "visibility": null,
            "width": null
          }
        },
        "a1d2769cc67041fd86673870af8e49b6": {
          "model_module": "@jupyter-widgets/controls",
          "model_name": "DescriptionStyleModel",
          "model_module_version": "1.5.0",
          "state": {
            "_model_module": "@jupyter-widgets/controls",
            "_model_module_version": "1.5.0",
            "_model_name": "DescriptionStyleModel",
            "_view_count": null,
            "_view_module": "@jupyter-widgets/base",
            "_view_module_version": "1.2.0",
            "_view_name": "StyleView",
            "description_width": ""
          }
        },
        "66a3a870c56b4d3eab7b5911d2b9becc": {
          "model_module": "@jupyter-widgets/base",
          "model_name": "LayoutModel",
          "model_module_version": "1.2.0",
          "state": {
            "_model_module": "@jupyter-widgets/base",
            "_model_module_version": "1.2.0",
            "_model_name": "LayoutModel",
            "_view_count": null,
            "_view_module": "@jupyter-widgets/base",
            "_view_module_version": "1.2.0",
            "_view_name": "LayoutView",
            "align_content": null,
            "align_items": null,
            "align_self": null,
            "border": null,
            "bottom": null,
            "display": null,
            "flex": null,
            "flex_flow": null,
            "grid_area": null,
            "grid_auto_columns": null,
            "grid_auto_flow": null,
            "grid_auto_rows": null,
            "grid_column": null,
            "grid_gap": null,
            "grid_row": null,
            "grid_template_areas": null,
            "grid_template_columns": null,
            "grid_template_rows": null,
            "height": null,
            "justify_content": null,
            "justify_items": null,
            "left": null,
            "margin": null,
            "max_height": null,
            "max_width": null,
            "min_height": null,
            "min_width": null,
            "object_fit": null,
            "object_position": null,
            "order": null,
            "overflow": null,
            "overflow_x": null,
            "overflow_y": null,
            "padding": null,
            "right": null,
            "top": null,
            "visibility": null,
            "width": null
          }
        },
        "e6aef4a96a6f441d8d328b06d0a20608": {
          "model_module": "@jupyter-widgets/controls",
          "model_name": "ProgressStyleModel",
          "model_module_version": "1.5.0",
          "state": {
            "_model_module": "@jupyter-widgets/controls",
            "_model_module_version": "1.5.0",
            "_model_name": "ProgressStyleModel",
            "_view_count": null,
            "_view_module": "@jupyter-widgets/base",
            "_view_module_version": "1.2.0",
            "_view_name": "StyleView",
            "bar_color": null,
            "description_width": ""
          }
        },
        "2b80a5cf08f642469eea017100151c49": {
          "model_module": "@jupyter-widgets/base",
          "model_name": "LayoutModel",
          "model_module_version": "1.2.0",
          "state": {
            "_model_module": "@jupyter-widgets/base",
            "_model_module_version": "1.2.0",
            "_model_name": "LayoutModel",
            "_view_count": null,
            "_view_module": "@jupyter-widgets/base",
            "_view_module_version": "1.2.0",
            "_view_name": "LayoutView",
            "align_content": null,
            "align_items": null,
            "align_self": null,
            "border": null,
            "bottom": null,
            "display": null,
            "flex": null,
            "flex_flow": null,
            "grid_area": null,
            "grid_auto_columns": null,
            "grid_auto_flow": null,
            "grid_auto_rows": null,
            "grid_column": null,
            "grid_gap": null,
            "grid_row": null,
            "grid_template_areas": null,
            "grid_template_columns": null,
            "grid_template_rows": null,
            "height": null,
            "justify_content": null,
            "justify_items": null,
            "left": null,
            "margin": null,
            "max_height": null,
            "max_width": null,
            "min_height": null,
            "min_width": null,
            "object_fit": null,
            "object_position": null,
            "order": null,
            "overflow": null,
            "overflow_x": null,
            "overflow_y": null,
            "padding": null,
            "right": null,
            "top": null,
            "visibility": null,
            "width": null
          }
        },
        "a561ac393e2a4be9bcf9c951c715b028": {
          "model_module": "@jupyter-widgets/controls",
          "model_name": "DescriptionStyleModel",
          "model_module_version": "1.5.0",
          "state": {
            "_model_module": "@jupyter-widgets/controls",
            "_model_module_version": "1.5.0",
            "_model_name": "DescriptionStyleModel",
            "_view_count": null,
            "_view_module": "@jupyter-widgets/base",
            "_view_module_version": "1.2.0",
            "_view_name": "StyleView",
            "description_width": ""
          }
        },
        "4e5a9a62bc8840e0bc081511e9508a3e": {
          "model_module": "@jupyter-widgets/controls",
          "model_name": "HBoxModel",
          "model_module_version": "1.5.0",
          "state": {
            "_dom_classes": [],
            "_model_module": "@jupyter-widgets/controls",
            "_model_module_version": "1.5.0",
            "_model_name": "HBoxModel",
            "_view_count": null,
            "_view_module": "@jupyter-widgets/controls",
            "_view_module_version": "1.5.0",
            "_view_name": "HBoxView",
            "box_style": "",
            "children": [
              "IPY_MODEL_f22988463b644afe8fd89f45a927a344",
              "IPY_MODEL_f40048c7ffb54829a606c3702b5bccfc",
              "IPY_MODEL_267bb9ea0e934e978e7e8caf08d711ba"
            ],
            "layout": "IPY_MODEL_3ea5b53113a04ba289fbac634d886dda"
          }
        },
        "f22988463b644afe8fd89f45a927a344": {
          "model_module": "@jupyter-widgets/controls",
          "model_name": "HTMLModel",
          "model_module_version": "1.5.0",
          "state": {
            "_dom_classes": [],
            "_model_module": "@jupyter-widgets/controls",
            "_model_module_version": "1.5.0",
            "_model_name": "HTMLModel",
            "_view_count": null,
            "_view_module": "@jupyter-widgets/controls",
            "_view_module_version": "1.5.0",
            "_view_name": "HTMLView",
            "description": "",
            "description_tooltip": null,
            "layout": "IPY_MODEL_264240bd6c5c43b689210b7dbe4a72fb",
            "placeholder": "​",
            "style": "IPY_MODEL_804f4f9c42e04e3f8795816afea93b08",
            "value": "tokenizer.json: 100%"
          }
        },
        "f40048c7ffb54829a606c3702b5bccfc": {
          "model_module": "@jupyter-widgets/controls",
          "model_name": "FloatProgressModel",
          "model_module_version": "1.5.0",
          "state": {
            "_dom_classes": [],
            "_model_module": "@jupyter-widgets/controls",
            "_model_module_version": "1.5.0",
            "_model_name": "FloatProgressModel",
            "_view_count": null,
            "_view_module": "@jupyter-widgets/controls",
            "_view_module_version": "1.5.0",
            "_view_name": "ProgressView",
            "bar_style": "success",
            "description": "",
            "description_tooltip": null,
            "layout": "IPY_MODEL_0dfa7680bea847198829b84db478cbec",
            "max": 1355863,
            "min": 0,
            "orientation": "horizontal",
            "style": "IPY_MODEL_b8766f30c8a3458b8d2a83ac48ea3945",
            "value": 1355863
          }
        },
        "267bb9ea0e934e978e7e8caf08d711ba": {
          "model_module": "@jupyter-widgets/controls",
          "model_name": "HTMLModel",
          "model_module_version": "1.5.0",
          "state": {
            "_dom_classes": [],
            "_model_module": "@jupyter-widgets/controls",
            "_model_module_version": "1.5.0",
            "_model_name": "HTMLModel",
            "_view_count": null,
            "_view_module": "@jupyter-widgets/controls",
            "_view_module_version": "1.5.0",
            "_view_name": "HTMLView",
            "description": "",
            "description_tooltip": null,
            "layout": "IPY_MODEL_744253ebaf6648668f937c7fff91d3f6",
            "placeholder": "​",
            "style": "IPY_MODEL_421a80ab44dc41d4ae79660166ed94c9",
            "value": " 1.36M/1.36M [00:00&lt;00:00, 6.31MB/s]"
          }
        },
        "3ea5b53113a04ba289fbac634d886dda": {
          "model_module": "@jupyter-widgets/base",
          "model_name": "LayoutModel",
          "model_module_version": "1.2.0",
          "state": {
            "_model_module": "@jupyter-widgets/base",
            "_model_module_version": "1.2.0",
            "_model_name": "LayoutModel",
            "_view_count": null,
            "_view_module": "@jupyter-widgets/base",
            "_view_module_version": "1.2.0",
            "_view_name": "LayoutView",
            "align_content": null,
            "align_items": null,
            "align_self": null,
            "border": null,
            "bottom": null,
            "display": null,
            "flex": null,
            "flex_flow": null,
            "grid_area": null,
            "grid_auto_columns": null,
            "grid_auto_flow": null,
            "grid_auto_rows": null,
            "grid_column": null,
            "grid_gap": null,
            "grid_row": null,
            "grid_template_areas": null,
            "grid_template_columns": null,
            "grid_template_rows": null,
            "height": null,
            "justify_content": null,
            "justify_items": null,
            "left": null,
            "margin": null,
            "max_height": null,
            "max_width": null,
            "min_height": null,
            "min_width": null,
            "object_fit": null,
            "object_position": null,
            "order": null,
            "overflow": null,
            "overflow_x": null,
            "overflow_y": null,
            "padding": null,
            "right": null,
            "top": null,
            "visibility": null,
            "width": null
          }
        },
        "264240bd6c5c43b689210b7dbe4a72fb": {
          "model_module": "@jupyter-widgets/base",
          "model_name": "LayoutModel",
          "model_module_version": "1.2.0",
          "state": {
            "_model_module": "@jupyter-widgets/base",
            "_model_module_version": "1.2.0",
            "_model_name": "LayoutModel",
            "_view_count": null,
            "_view_module": "@jupyter-widgets/base",
            "_view_module_version": "1.2.0",
            "_view_name": "LayoutView",
            "align_content": null,
            "align_items": null,
            "align_self": null,
            "border": null,
            "bottom": null,
            "display": null,
            "flex": null,
            "flex_flow": null,
            "grid_area": null,
            "grid_auto_columns": null,
            "grid_auto_flow": null,
            "grid_auto_rows": null,
            "grid_column": null,
            "grid_gap": null,
            "grid_row": null,
            "grid_template_areas": null,
            "grid_template_columns": null,
            "grid_template_rows": null,
            "height": null,
            "justify_content": null,
            "justify_items": null,
            "left": null,
            "margin": null,
            "max_height": null,
            "max_width": null,
            "min_height": null,
            "min_width": null,
            "object_fit": null,
            "object_position": null,
            "order": null,
            "overflow": null,
            "overflow_x": null,
            "overflow_y": null,
            "padding": null,
            "right": null,
            "top": null,
            "visibility": null,
            "width": null
          }
        },
        "804f4f9c42e04e3f8795816afea93b08": {
          "model_module": "@jupyter-widgets/controls",
          "model_name": "DescriptionStyleModel",
          "model_module_version": "1.5.0",
          "state": {
            "_model_module": "@jupyter-widgets/controls",
            "_model_module_version": "1.5.0",
            "_model_name": "DescriptionStyleModel",
            "_view_count": null,
            "_view_module": "@jupyter-widgets/base",
            "_view_module_version": "1.2.0",
            "_view_name": "StyleView",
            "description_width": ""
          }
        },
        "0dfa7680bea847198829b84db478cbec": {
          "model_module": "@jupyter-widgets/base",
          "model_name": "LayoutModel",
          "model_module_version": "1.2.0",
          "state": {
            "_model_module": "@jupyter-widgets/base",
            "_model_module_version": "1.2.0",
            "_model_name": "LayoutModel",
            "_view_count": null,
            "_view_module": "@jupyter-widgets/base",
            "_view_module_version": "1.2.0",
            "_view_name": "LayoutView",
            "align_content": null,
            "align_items": null,
            "align_self": null,
            "border": null,
            "bottom": null,
            "display": null,
            "flex": null,
            "flex_flow": null,
            "grid_area": null,
            "grid_auto_columns": null,
            "grid_auto_flow": null,
            "grid_auto_rows": null,
            "grid_column": null,
            "grid_gap": null,
            "grid_row": null,
            "grid_template_areas": null,
            "grid_template_columns": null,
            "grid_template_rows": null,
            "height": null,
            "justify_content": null,
            "justify_items": null,
            "left": null,
            "margin": null,
            "max_height": null,
            "max_width": null,
            "min_height": null,
            "min_width": null,
            "object_fit": null,
            "object_position": null,
            "order": null,
            "overflow": null,
            "overflow_x": null,
            "overflow_y": null,
            "padding": null,
            "right": null,
            "top": null,
            "visibility": null,
            "width": null
          }
        },
        "b8766f30c8a3458b8d2a83ac48ea3945": {
          "model_module": "@jupyter-widgets/controls",
          "model_name": "ProgressStyleModel",
          "model_module_version": "1.5.0",
          "state": {
            "_model_module": "@jupyter-widgets/controls",
            "_model_module_version": "1.5.0",
            "_model_name": "ProgressStyleModel",
            "_view_count": null,
            "_view_module": "@jupyter-widgets/base",
            "_view_module_version": "1.2.0",
            "_view_name": "StyleView",
            "bar_color": null,
            "description_width": ""
          }
        },
        "744253ebaf6648668f937c7fff91d3f6": {
          "model_module": "@jupyter-widgets/base",
          "model_name": "LayoutModel",
          "model_module_version": "1.2.0",
          "state": {
            "_model_module": "@jupyter-widgets/base",
            "_model_module_version": "1.2.0",
            "_model_name": "LayoutModel",
            "_view_count": null,
            "_view_module": "@jupyter-widgets/base",
            "_view_module_version": "1.2.0",
            "_view_name": "LayoutView",
            "align_content": null,
            "align_items": null,
            "align_self": null,
            "border": null,
            "bottom": null,
            "display": null,
            "flex": null,
            "flex_flow": null,
            "grid_area": null,
            "grid_auto_columns": null,
            "grid_auto_flow": null,
            "grid_auto_rows": null,
            "grid_column": null,
            "grid_gap": null,
            "grid_row": null,
            "grid_template_areas": null,
            "grid_template_columns": null,
            "grid_template_rows": null,
            "height": null,
            "justify_content": null,
            "justify_items": null,
            "left": null,
            "margin": null,
            "max_height": null,
            "max_width": null,
            "min_height": null,
            "min_width": null,
            "object_fit": null,
            "object_position": null,
            "order": null,
            "overflow": null,
            "overflow_x": null,
            "overflow_y": null,
            "padding": null,
            "right": null,
            "top": null,
            "visibility": null,
            "width": null
          }
        },
        "421a80ab44dc41d4ae79660166ed94c9": {
          "model_module": "@jupyter-widgets/controls",
          "model_name": "DescriptionStyleModel",
          "model_module_version": "1.5.0",
          "state": {
            "_model_module": "@jupyter-widgets/controls",
            "_model_module_version": "1.5.0",
            "_model_name": "DescriptionStyleModel",
            "_view_count": null,
            "_view_module": "@jupyter-widgets/base",
            "_view_module_version": "1.2.0",
            "_view_name": "StyleView",
            "description_width": ""
          }
        }
      }
    }
  },
  "cells": [
    {
      "cell_type": "markdown",
      "source": [
        "https://github.com/lerocha/chinook-database/blob/master/ChinookDatabase/DataSources/Chinook_Sqlite.sqlite"
      ],
      "metadata": {
        "id": "hmntLAT8U-kQ"
      }
    },
    {
      "cell_type": "code",
      "source": [],
      "metadata": {
        "id": "ftLw6uurj_RS"
      },
      "execution_count": null,
      "outputs": []
    },
    {
      "cell_type": "markdown",
      "source": [
        "# What is HuggingFace\n",
        "\n",
        "Hugging Face is an open-source platform and community that specializes in artificial intelligence (AI) and natural language processing (NLP). Founded in 2016, it initially aimed to create an interactive AI chatbot but quickly evolved into a hub for machine learning resources after open-sourcing its model.\n",
        "\n",
        "__Key Features__\n",
        "* __Transformers Library__: Hugging Face is renowned for its Transformers library, which offers pre-trained models for various NLP tasks, making it easier for developers to implement complex models without starting from scratch.\n",
        "* __Hugging Face Hub__: This platform serves as a repository for over 200,000 models and datasets, allowing users to share, collaborate, and utilize AI models across different applications, including text, audio, and computer vision.\n",
        "* __Community-Driven__: Hugging Face fosters a collaborative environment where data scientists, researchers, and developers can exchange ideas, contribute to open-source projects, and access a wealth of educational resources.\n",
        "* __User-Friendly Interface__: The platform is designed to be intuitive, making it accessible to both beginners and experienced professionals in the field of AI.\n",
        "\n",
        "To learn more visit their webpage at https://huggingface.co/"
      ],
      "metadata": {
        "id": "PR83kAx_kAAh"
      }
    },
    {
      "cell_type": "markdown",
      "source": [
        "## HuggingFace code template\n",
        "\n",
        "* Example `mistralai/Mixtral-8x7B-Instruct-v0.1`\n",
        "  * __High-level API__  with Pipelines which simplifies the process by providing easy access to pre-trained models through simple commands like pipeline(\"task\")\n",
        "  ```python\n",
        "  from transformers import pipeline\n",
        "  pipe = pipeline(\"text-generation\", model=\"mistralai/Mixtral-8x7B-Instruct-v0.1\")\n",
        "  ```\n",
        "  * __Low-level API__ which involves loading models directly using methods like `AutoModelForSequenceClassification.from_pretrained(\"model_name\")`.\n",
        "\n",
        "  ```python\n",
        "  from transformers import AutoTokenizer, AutoModelForCausalLM\n",
        "\n",
        "  tokenizer = AutoTokenizer.from_pretrained(\"mistralai/Mixtral-8x7B-Instruct-v0.1\")\n",
        "  model = AutoModelForCausalLM.from_pretrained(\"mistralai/Mixtral-8x7B-Instruct-v0.1\")\n",
        "```"
      ],
      "metadata": {
        "id": "xKA9SnasForJ"
      }
    },
    {
      "cell_type": "code",
      "execution_count": null,
      "metadata": {
        "id": "qPwShkJzEnOJ"
      },
      "outputs": [],
      "source": [
        "# Installing Hugging Face libraries\n",
        "\n",
        "%pip install transformers huggingface_hub accelerate --quiet"
      ]
    },
    {
      "cell_type": "markdown",
      "source": [
        "## Hugging Face Pipeline\n",
        "> The pipeline abstraction is a wrapper around all the other available pipelines."
      ],
      "metadata": {
        "id": "tJbOp2yCF-wR"
      }
    },
    {
      "cell_type": "code",
      "source": [
        "import torch\n",
        "from transformers import pipeline"
      ],
      "metadata": {
        "id": "_KSZx6nuF2nk"
      },
      "execution_count": 2,
      "outputs": []
    },
    {
      "cell_type": "markdown",
      "source": [
        "### Example: Summarization"
      ],
      "metadata": {
        "id": "rGN3z9YlHEp9"
      }
    },
    {
      "cell_type": "code",
      "source": [],
      "metadata": {
        "id": "1GqNtdSknq0X"
      },
      "execution_count": 2,
      "outputs": []
    },
    {
      "cell_type": "code",
      "source": [
        "# you can sepecify which model to use for a specific task, for example using bart-large-cnn model for summarization\n",
        "\n",
        "summarizer = pipeline(\"summarization\", model='facebook/bart-large-cnn')"
      ],
      "metadata": {
        "colab": {
          "base_uri": "https://localhost:8080/",
          "height": 331,
          "referenced_widgets": [
            "31214f2e26fe48baabc910c653f74831",
            "a1ffac5d1d6b46c88056f1328d70d0e3",
            "72db735a667f4e899474f3b5ea063045",
            "50460cfade40486f9e4a42116975d323",
            "9e12a31a9a274254a30ac923212a51aa",
            "615f89b5914a4ba0a255682e5551771e",
            "c4d1991ef4684966bd09684249f5e583",
            "cf0158d5f8b8481e8af73330cb669aaa",
            "4632097e34bf4738a2a2df73b8486ac2",
            "cdcc6a6be360494ab0b82cca6aaa1d27",
            "b1c9b3dccd2f4577af15fa79b872372f",
            "9333a782508147b4b209f331bd1b59e6",
            "c8aade00a4704b8382ceef4d9b8ff375",
            "e51d80b85b15459b91d3d33581b8ba6f",
            "cf56a23305d346ba8fb9b4886988d86d",
            "8f423b2226064bd181752da59209aa8f",
            "6745fff12e15404ebecc5c707df24d16",
            "23d9d4c89c814a75b96e551c8dbc8431",
            "54fea09fc0a343d9bd3d438fc36428d0",
            "13f7791d09d74263a27c517d171e6610",
            "63f52da00f094c19baa0e00e0096a1ad",
            "3c15d4d19cce4d8fae4d4efb7b8dccc5",
            "8ff3a008aa244c8db04e13a8fee3f0b1",
            "555fd52a6d8a4f329a52807955843014",
            "5ebcd10f3d8d471f8d48dfa936fd50e5",
            "0fc7748e9bfd4c718643cdf7d3314e3f",
            "02912d3b3f9b49f286baecd61d9de87e",
            "aac05928330540e699c04ab6f7f01b8e",
            "70c3372435e34c07a823262bc76fb00c",
            "560097cf51b3419ca97d29884a31774f",
            "8a76ce01faf6490e91b34b99517ec699",
            "3d98b1d9c4d144f4b07b94f44cd2c8ba",
            "a5b8f908a4e44c35851e841a1a560dd4",
            "87a048821676477d93378b01740b21ed",
            "196933d772f44ff1af479b44f0bd4166",
            "85e1003dc47c43128fb4e04653ccf7e9",
            "6f91bdca9bff4496994fda6d578b91f5",
            "eabb55a9a8a04cb9bc77e1a29adca19e",
            "d3a0cb6567ac47b1921afc8c12287754",
            "86747394d4b648289446b4b015249fb1",
            "63264c2493a24df9a52f1de707042c8e",
            "826d0267b8a34d5ca1f335755e468e20",
            "6957a9a6316743e9be00f863030d7dad",
            "6e1af98107c64636ab9decd072802a1b",
            "f75bde403f4d4f568e890e975a6429e3",
            "d3de2789208743f7a69b6bd2cad0ca12",
            "adcb4c885aa14f3d822f5b25a5c6b0e4",
            "42ffe24767334d14b6956eb7e5f9c30b",
            "70eb0ee1ea3e4a88a89c15cd9ae297b2",
            "a74b77f070f14c0fb234c92f0a8c362e",
            "a1d2769cc67041fd86673870af8e49b6",
            "66a3a870c56b4d3eab7b5911d2b9becc",
            "e6aef4a96a6f441d8d328b06d0a20608",
            "2b80a5cf08f642469eea017100151c49",
            "a561ac393e2a4be9bcf9c951c715b028",
            "4e5a9a62bc8840e0bc081511e9508a3e",
            "f22988463b644afe8fd89f45a927a344",
            "f40048c7ffb54829a606c3702b5bccfc",
            "267bb9ea0e934e978e7e8caf08d711ba",
            "3ea5b53113a04ba289fbac634d886dda",
            "264240bd6c5c43b689210b7dbe4a72fb",
            "804f4f9c42e04e3f8795816afea93b08",
            "0dfa7680bea847198829b84db478cbec",
            "b8766f30c8a3458b8d2a83ac48ea3945",
            "744253ebaf6648668f937c7fff91d3f6",
            "421a80ab44dc41d4ae79660166ed94c9"
          ]
        },
        "id": "Xu_RD8O9F8SH",
        "outputId": "a3e9ed01-6881-4f70-b295-f5275884e9e6"
      },
      "execution_count": 3,
      "outputs": [
        {
          "output_type": "stream",
          "name": "stderr",
          "text": [
            "/usr/local/lib/python3.10/dist-packages/huggingface_hub/utils/_token.py:89: UserWarning: \n",
            "The secret `HF_TOKEN` does not exist in your Colab secrets.\n",
            "To authenticate with the Hugging Face Hub, create a token in your settings tab (https://huggingface.co/settings/tokens), set it as secret in your Google Colab and restart your session.\n",
            "You will be able to reuse this secret in all of your notebooks.\n",
            "Please note that authentication is recommended but still optional to access public models or datasets.\n",
            "  warnings.warn(\n"
          ]
        },
        {
          "output_type": "display_data",
          "data": {
            "text/plain": [
              "config.json:   0%|          | 0.00/1.58k [00:00<?, ?B/s]"
            ],
            "application/vnd.jupyter.widget-view+json": {
              "version_major": 2,
              "version_minor": 0,
              "model_id": "31214f2e26fe48baabc910c653f74831"
            }
          },
          "metadata": {}
        },
        {
          "output_type": "display_data",
          "data": {
            "text/plain": [
              "model.safetensors:   0%|          | 0.00/1.63G [00:00<?, ?B/s]"
            ],
            "application/vnd.jupyter.widget-view+json": {
              "version_major": 2,
              "version_minor": 0,
              "model_id": "9333a782508147b4b209f331bd1b59e6"
            }
          },
          "metadata": {}
        },
        {
          "output_type": "display_data",
          "data": {
            "text/plain": [
              "generation_config.json:   0%|          | 0.00/363 [00:00<?, ?B/s]"
            ],
            "application/vnd.jupyter.widget-view+json": {
              "version_major": 2,
              "version_minor": 0,
              "model_id": "8ff3a008aa244c8db04e13a8fee3f0b1"
            }
          },
          "metadata": {}
        },
        {
          "output_type": "display_data",
          "data": {
            "text/plain": [
              "vocab.json:   0%|          | 0.00/899k [00:00<?, ?B/s]"
            ],
            "application/vnd.jupyter.widget-view+json": {
              "version_major": 2,
              "version_minor": 0,
              "model_id": "87a048821676477d93378b01740b21ed"
            }
          },
          "metadata": {}
        },
        {
          "output_type": "display_data",
          "data": {
            "text/plain": [
              "merges.txt:   0%|          | 0.00/456k [00:00<?, ?B/s]"
            ],
            "application/vnd.jupyter.widget-view+json": {
              "version_major": 2,
              "version_minor": 0,
              "model_id": "f75bde403f4d4f568e890e975a6429e3"
            }
          },
          "metadata": {}
        },
        {
          "output_type": "display_data",
          "data": {
            "text/plain": [
              "tokenizer.json:   0%|          | 0.00/1.36M [00:00<?, ?B/s]"
            ],
            "application/vnd.jupyter.widget-view+json": {
              "version_major": 2,
              "version_minor": 0,
              "model_id": "4e5a9a62bc8840e0bc081511e9508a3e"
            }
          },
          "metadata": {}
        }
      ]
    },
    {
      "cell_type": "code",
      "source": [
        "wikipedia_text = \"\"\"The Fédération internationale de football association (French for 'International Association Football Federation';\n",
        "[3] abbreviated as FIFA and pronounced in English as /ˈfiːfə/) is the international governing body of association football, beach soccer,\n",
        "and futsal. It was founded in 1904[4] to oversee international competition among the national associations of Belgium, Denmark, France,\n",
        "Germany, the Netherlands, Spain, Sweden and Switzerland. Headquartered in Zürich, Switzerland, its membership now comprises 211 national\n",
        "associations. These national associations must also be members of one of the six regional confederations into which the world is divided:\n",
        "CAF (Africa), AFC (Asia and Australia), UEFA (Europe), CONCACAF (North & Central America and the Caribbean), OFC (Oceania) and CONMEBOL\n",
        "(South America). It is most notable for the FIFA World Cup, held every four years.\n",
        "FIFA outlines several objectives in its organizational statutes, including growing association football internationally, providing efforts\n",
        "to ensure it is accessible to everyone, and advocating for integrity and fair play.[5] It is responsible for the organization and promotion\n",
        "of association football's major international tournaments, notably the World Cup which commenced in 1930, and the Women's World Cup which\n",
        "began in 1991. Although FIFA does not solely set the laws of the game, that being the responsibility of the International Football Association\n",
        "Board of which FIFA is a member, it applies and enforces the rules across all FIFA competitions.[6] All FIFA tournaments generate revenue from\n",
        "sponsorships; in 2022, FIFA had revenues of over US $5.8 billion, ending the 2019–2022 cycle with a net positive of US$1.2 billion, and cash\n",
        "reserves of over US$3.9 billion.[7]\n",
        "Reports by investigative journalists have linked FIFA leadership with corruption, bribery, and vote-rigging related to the election of FIFA\n",
        "president Sepp Blatter and the organization's decision to award the 2018 and 2022 World Cups to Russia and Qatar, respectively. These\n",
        "allegations led to the indictments of nine high-ranking FIFA officials and five corporate executives by the U.S. Department of Justice\n",
        "on charges including racketeering, wire fraud, and money laundering. On 27 May 2015, several of these officials were arrested by Swiss\n",
        "authorities, who launched a simultaneous but separate criminal investigation into how the organization awarded the 2018 and 2022 World Cups.\n",
        "Those among these officials who were also indicted in the U.S. are expected to be extradited to face charges there as well.[8][9][10]\n",
        "Many officials were suspended by FIFA's ethics committee including Sepp Blatter[11] and Michel Platini.[12] In early 2017, reports became\n",
        "public about FIFA president Gianni Infantino attempting to prevent the re-elections[13] of both chairmen of the ethics committee,\n",
        "Cornel Borbély and Hans-Joachim Eckert, during the FIFA congress in May 2017.[14][15] On 9 May 2017, following Infantino's proposal,[16]\n",
        "FIFA Council decided not to renew the mandates of Borbély and Eckert.[16] Together with the chairmen, 11 of 13 committee members were\n",
        "removed. FIFA has been suspected of corruption regarding the Qatar 2022 FIFA World Cup.[17]\n",
        "\"\"\"\n",
        "\n",
        "result = summarizer(wikipedia_text, max_length=150, min_length=30)"
      ],
      "metadata": {
        "id": "tj_N6HGZGQ1K"
      },
      "execution_count": null,
      "outputs": []
    },
    {
      "cell_type": "code",
      "source": [
        "result[0]['summary_text']"
      ],
      "metadata": {
        "colab": {
          "base_uri": "https://localhost:8080/",
          "height": 69
        },
        "id": "NjgMfnPIGxbR",
        "outputId": "92bdfce0-355f-4d6e-b420-7c32d4e9023d"
      },
      "execution_count": null,
      "outputs": [
        {
          "output_type": "execute_result",
          "data": {
            "text/plain": [
              "' FIFA is the international governing body of association football, beach soccer, and futsal . It was founded in 1904 to oversee international competition among the national associations of Belgium, Denmark, France, Germany, the Netherlands, Spain, Sweden and Switzerland . It is most notable for the FIFA World Cup, held every four years . FIFA does not set the laws of the game but enforces the rules across all FIFA competitions .'"
            ],
            "application/vnd.google.colaboratory.intrinsic+json": {
              "type": "string"
            }
          },
          "metadata": {},
          "execution_count": 69
        }
      ]
    },
    {
      "cell_type": "code",
      "source": [
        "result[0]['summary_text']"
      ],
      "metadata": {
        "colab": {
          "base_uri": "https://localhost:8080/",
          "height": 52
        },
        "id": "y3clGUvXoMh0",
        "outputId": "2241f67a-0301-4d3c-ddec-339a03ccd4f5"
      },
      "execution_count": null,
      "outputs": [
        {
          "output_type": "execute_result",
          "data": {
            "text/plain": [
              "'FIFA is the international governing body of association football, beach soccer, and futsal. It was founded in 1904 to oversee international competition among the national associations of Belgium, Denmark, France,Germany, the Netherlands, Spain, Sweden and Switzerland. It is most notable for the FIFA World Cup, held every four years.'"
            ],
            "application/vnd.google.colaboratory.intrinsic+json": {
              "type": "string"
            }
          },
          "metadata": {},
          "execution_count": 72
        }
      ]
    },
    {
      "cell_type": "markdown",
      "source": [
        "### Example Sentiment Analysis"
      ],
      "metadata": {
        "id": "ywX4vbgtHLGL"
      }
    },
    {
      "cell_type": "code",
      "source": [
        "sentiment = pipeline('sentiment-analysis')"
      ],
      "metadata": {
        "colab": {
          "base_uri": "https://localhost:8080/"
        },
        "id": "TpYknGnvHQc2",
        "outputId": "dad9265e-a423-400f-dfe6-bc5ca406dfc4"
      },
      "execution_count": null,
      "outputs": [
        {
          "output_type": "stream",
          "name": "stderr",
          "text": [
            "No model was supplied, defaulted to distilbert/distilbert-base-uncased-finetuned-sst-2-english and revision af0f99b (https://huggingface.co/distilbert/distilbert-base-uncased-finetuned-sst-2-english).\n",
            "Using a pipeline without specifying a model name and revision in production is not recommended.\n"
          ]
        }
      ]
    },
    {
      "cell_type": "code",
      "source": [
        "text = ['I am a big fan of FIFA', 'I did not enjoy the last soccer game', 'I would watch a soccer game over a tennis match']\n",
        "sentiment_result = sentiment(text)"
      ],
      "metadata": {
        "id": "Pjfbkf7rG6mk"
      },
      "execution_count": null,
      "outputs": []
    },
    {
      "cell_type": "code",
      "source": [
        "for r,t in zip(sentiment_result, text):\n",
        "  print(t, '-->', r['label'])"
      ],
      "metadata": {
        "colab": {
          "base_uri": "https://localhost:8080/"
        },
        "id": "trcfD8bwHVws",
        "outputId": "d4645289-a5d0-4b8f-9ab8-d5218a77d538"
      },
      "execution_count": null,
      "outputs": [
        {
          "output_type": "stream",
          "name": "stdout",
          "text": [
            "I am a big fan of FIFA --> POSITIVE\n",
            "I did not enjoy the last soccer game --> NEGATIVE\n",
            "I would watch a soccer game over a tennis match --> NEGATIVE\n"
          ]
        }
      ]
    },
    {
      "cell_type": "markdown",
      "source": [
        "### Example Translation"
      ],
      "metadata": {
        "id": "zZYHkaJ-HkMu"
      }
    },
    {
      "cell_type": "code",
      "source": [
        "translator = pipeline(\"translation\", model=\"Helsinki-NLP/opus-mt-en-fr\")"
      ],
      "metadata": {
        "colab": {
          "base_uri": "https://localhost:8080/"
        },
        "id": "S1PWZLSoHgkD",
        "outputId": "c44e5d9f-043e-4788-a35a-fbace0c6194c"
      },
      "execution_count": null,
      "outputs": [
        {
          "output_type": "stream",
          "name": "stderr",
          "text": [
            "/usr/local/lib/python3.10/dist-packages/transformers/models/marian/tokenization_marian.py:175: UserWarning: Recommended: pip install sacremoses.\n",
            "  warnings.warn(\"Recommended: pip install sacremoses.\")\n"
          ]
        }
      ]
    },
    {
      "cell_type": "code",
      "source": [
        "# translate the previous summary\n",
        "translator(result[0]['summary_text'])\n"
      ],
      "metadata": {
        "colab": {
          "base_uri": "https://localhost:8080/"
        },
        "id": "gGV2ypV7Hm7x",
        "outputId": "2ba9c43e-d5c7-4e02-9d20-3b0f692dda19"
      },
      "execution_count": null,
      "outputs": [
        {
          "output_type": "execute_result",
          "data": {
            "text/plain": [
              "[{'translation_text': \"Fondée en 1904 pour superviser la compétition internationale entre les associations nationales de Belgique, Danemark, France, Allemagne, Pays-Bas, Espagne, Suède et Suisse, la FIFA est l'organe directeur international du football, du soccer de plage et du futsal.\"}]"
            ]
          },
          "metadata": {},
          "execution_count": 77
        }
      ]
    },
    {
      "cell_type": "code",
      "source": [
        "# pipe = pipeline(\"text-generation\", model=\"databricks/dolly-v2-3b\", trust_remote_code=True)"
      ],
      "metadata": {
        "id": "pnkg1MRRHzox"
      },
      "execution_count": null,
      "outputs": []
    },
    {
      "cell_type": "markdown",
      "source": [
        "# LangChain\n",
        "\n",
        "LangChain is an open-source framework designed to facilitate the development of applications powered by large language models (LLMs). It aims to streamline the integration of LLMs with various external data sources, enabling developers to create sophisticated natural language processing (NLP) applications.\n",
        "\n",
        "## Key Features and Components\n",
        "\n",
        "1. **Model Interaction**: LangChain allows developers to interact with different language models, managing inputs and extracting outputs efficiently.\n",
        "2. **Data Connection and Retrieval**: This component enables the transformation, storage, and retrieval of data from various databases, making it accessible for LLMs.\n",
        "3. **Chains**: LangChain's architecture supports the creation of \"chains,\" which are sequences of automated actions that connect various components, including multiple LLMs and other tools.\n",
        "4. **Agents**: This feature allows LLMs to determine the best course of action to solve specific problems by orchestrating commands and responses.\n",
        "5. **Memory**: LangChain can implement memory functionalities, enabling models to recall context from previous interactions, enhancing user engagement and response relevance\n",
        "\n",
        "For more informaiton visit LangChain webpage at https://www.langchain.com/"
      ],
      "metadata": {
        "id": "plcvnn7CIGAf"
      }
    },
    {
      "cell_type": "markdown",
      "source": [
        "## Example readnig a PDF"
      ],
      "metadata": {
        "id": "W_ehzHBLIIsf"
      }
    },
    {
      "cell_type": "code",
      "source": [
        "%pip install langchain langchain-experimental langchain-openai openai pypdf --quiet"
      ],
      "metadata": {
        "colab": {
          "base_uri": "https://localhost:8080/"
        },
        "id": "BskSFXn7IIeQ",
        "outputId": "c6f68dd3-9f6f-4459-e848-5d5eeaa54b46"
      },
      "execution_count": null,
      "outputs": [
        {
          "output_type": "stream",
          "name": "stdout",
          "text": [
            "\u001b[2K     \u001b[90m━━━━━━━━━━━━━━━━━━━━━━━━━━━━━━━━━━━━━━━━\u001b[0m \u001b[32m50.4/50.4 kB\u001b[0m \u001b[31m2.2 MB/s\u001b[0m eta \u001b[36m0:00:00\u001b[0m\n",
            "\u001b[2K   \u001b[90m━━━━━━━━━━━━━━━━━━━━━━━━━━━━━━━━━━━━━━━━\u001b[0m \u001b[32m997.8/997.8 kB\u001b[0m \u001b[31m16.7 MB/s\u001b[0m eta \u001b[36m0:00:00\u001b[0m\n",
            "\u001b[2K   \u001b[90m━━━━━━━━━━━━━━━━━━━━━━━━━━━━━━━━━━━━━━━━\u001b[0m \u001b[32m204.3/204.3 kB\u001b[0m \u001b[31m9.2 MB/s\u001b[0m eta \u001b[36m0:00:00\u001b[0m\n",
            "\u001b[2K   \u001b[90m━━━━━━━━━━━━━━━━━━━━━━━━━━━━━━━━━━━━━━━━\u001b[0m \u001b[32m49.8/49.8 kB\u001b[0m \u001b[31m2.5 MB/s\u001b[0m eta \u001b[36m0:00:00\u001b[0m\n",
            "\u001b[2K   \u001b[90m━━━━━━━━━━━━━━━━━━━━━━━━━━━━━━━━━━━━━━━━\u001b[0m \u001b[32m361.3/361.3 kB\u001b[0m \u001b[31m12.4 MB/s\u001b[0m eta \u001b[36m0:00:00\u001b[0m\n",
            "\u001b[2K   \u001b[90m━━━━━━━━━━━━━━━━━━━━━━━━━━━━━━━━━━━━━━━━\u001b[0m \u001b[32m295.8/295.8 kB\u001b[0m \u001b[31m12.2 MB/s\u001b[0m eta \u001b[36m0:00:00\u001b[0m\n",
            "\u001b[2K   \u001b[90m━━━━━━━━━━━━━━━━━━━━━━━━━━━━━━━━━━━━━━━━\u001b[0m \u001b[32m75.6/75.6 kB\u001b[0m \u001b[31m3.6 MB/s\u001b[0m eta \u001b[36m0:00:00\u001b[0m\n",
            "\u001b[2K   \u001b[90m━━━━━━━━━━━━━━━━━━━━━━━━━━━━━━━━━━━━━━━━\u001b[0m \u001b[32m77.9/77.9 kB\u001b[0m \u001b[31m4.3 MB/s\u001b[0m eta \u001b[36m0:00:00\u001b[0m\n",
            "\u001b[2K   \u001b[90m━━━━━━━━━━━━━━━━━━━━━━━━━━━━━━━━━━━━━━━━\u001b[0m \u001b[32m318.9/318.9 kB\u001b[0m \u001b[31m14.3 MB/s\u001b[0m eta \u001b[36m0:00:00\u001b[0m\n",
            "\u001b[2K   \u001b[90m━━━━━━━━━━━━━━━━━━━━━━━━━━━━━━━━━━━━━━━━\u001b[0m \u001b[32m2.3/2.3 MB\u001b[0m \u001b[31m23.4 MB/s\u001b[0m eta \u001b[36m0:00:00\u001b[0m\n",
            "\u001b[2K   \u001b[90m━━━━━━━━━━━━━━━━━━━━━━━━━━━━━━━━━━━━━━━━\u001b[0m \u001b[32m384.8/384.8 kB\u001b[0m \u001b[31m15.3 MB/s\u001b[0m eta \u001b[36m0:00:00\u001b[0m\n",
            "\u001b[2K   \u001b[90m━━━━━━━━━━━━━━━━━━━━━━━━━━━━━━━━━━━━━━━━\u001b[0m \u001b[32m140.4/140.4 kB\u001b[0m \u001b[31m8.4 MB/s\u001b[0m eta \u001b[36m0:00:00\u001b[0m\n",
            "\u001b[2K   \u001b[90m━━━━━━━━━━━━━━━━━━━━━━━━━━━━━━━━━━━━━━━━\u001b[0m \u001b[32m1.1/1.1 MB\u001b[0m \u001b[31m16.0 MB/s\u001b[0m eta \u001b[36m0:00:00\u001b[0m\n",
            "\u001b[2K   \u001b[90m━━━━━━━━━━━━━━━━━━━━━━━━━━━━━━━━━━━━━━━━\u001b[0m \u001b[32m141.9/141.9 kB\u001b[0m \u001b[31m5.1 MB/s\u001b[0m eta \u001b[36m0:00:00\u001b[0m\n",
            "\u001b[2K   \u001b[90m━━━━━━━━━━━━━━━━━━━━━━━━━━━━━━━━━━━━━━━━\u001b[0m \u001b[32m58.3/58.3 kB\u001b[0m \u001b[31m3.3 MB/s\u001b[0m eta \u001b[36m0:00:00\u001b[0m\n",
            "\u001b[2K   \u001b[90m━━━━━━━━━━━━━━━━━━━━━━━━━━━━━━━━━━━━━━━━\u001b[0m \u001b[32m49.2/49.2 kB\u001b[0m \u001b[31m2.7 MB/s\u001b[0m eta \u001b[36m0:00:00\u001b[0m\n",
            "\u001b[?25h"
          ]
        }
      ]
    },
    {
      "cell_type": "code",
      "source": [
        "from langchain.document_loaders import PyPDFLoader"
      ],
      "metadata": {
        "id": "DX-ZJDB-IFzS"
      },
      "execution_count": null,
      "outputs": []
    },
    {
      "cell_type": "code",
      "source": [
        "# Reading a PDF from a URL\n",
        "pdf_path = 'https://arxiv.org/pdf/2012.12931.pdf'\n",
        "\n",
        "# Reading from an Uploaded PDF\n",
        "#pdf_path = '/content/Golestaneh et al. - 2016 - Very Short-Term Nonparametric Probabilistic Foreca.pdf'"
      ],
      "metadata": {
        "id": "FVfXO8VhIcKV"
      },
      "execution_count": null,
      "outputs": []
    },
    {
      "cell_type": "code",
      "source": [
        "pdf_loader = PyPDFLoader(file_path = pdf_path)"
      ],
      "metadata": {
        "id": "upLvzTDCIftt"
      },
      "execution_count": null,
      "outputs": []
    },
    {
      "cell_type": "code",
      "source": [
        "pdf_data = pdf_loader.load_and_split()"
      ],
      "metadata": {
        "id": "9nKG8EZO4j9V"
      },
      "execution_count": null,
      "outputs": []
    },
    {
      "cell_type": "code",
      "source": [
        "len(pdf_data)"
      ],
      "metadata": {
        "colab": {
          "base_uri": "https://localhost:8080/"
        },
        "id": "Qs6DyNOfIgTY",
        "outputId": "5767324d-86fa-4fcd-e3d9-d5e3dad87662"
      },
      "execution_count": null,
      "outputs": [
        {
          "output_type": "execute_result",
          "data": {
            "text/plain": [
              "47"
            ]
          },
          "metadata": {},
          "execution_count": 57
        }
      ]
    },
    {
      "cell_type": "code",
      "source": [
        "print(pdf_data[12].page_content)"
      ],
      "metadata": {
        "colab": {
          "base_uri": "https://localhost:8080/"
        },
        "id": "CZGJLvbFJQSs",
        "outputId": "4739392e-e889-41e5-b013-0531af339a85"
      },
      "execution_count": null,
      "outputs": [
        {
          "output_type": "stream",
          "name": "stdout",
          "text": [
            "On Using Classification Datasets to Evaluate Graph Outlier Detection: Peculiar Observations and New Insights\n",
            "Table 1. Average ROC-AUC performance (and standard deviation) of 3 different graph embedding based\n",
            "methods for graph outlier detection using 4 binary graph classification datasets. Each dataset has 2 down-\n",
            "sampled variants, where outliers are created by down-sampling one of two classes (class 0 or class 1) with\n",
            "rate=0.1, averaged over 10 different down-samplings. Performance flip observed on DD, PROTEINS, and\n",
            "NCI1 for all 3 models, where ROC-AUC is significantly larger on one variant than the other. ROC-AUC\n",
            "values less than 0.5 are shown in bold as they indicate worse-than-random performance.\n",
            "Dataset Outlier Cls OCGIN WL+LOF PK+LOF\n",
            "DD0 0.327 (0.023) 0.186 (0.024) 0.194 (0.027)\n",
            "1 0.720 (0.035) 0.815 (0.020) 0.824 (0.021)\n",
            "PROTEINS0 0.370 (0.037) 0.276 (0.021) 0.389 (0.054)\n",
            "1 0.681 (0.028) 0.664 (0.024) 0.557 (0.041)\n",
            "NCI10 0.643 (0.030) 0.730 (0.012) 0.678 (0.019)\n",
            "1 0.467 (0.028) 0.349 (0.022) 0.366 (0.027)\n",
            "IMDB0 0.643 (0.039) 0.603 (0.038) 0.624 (0.030)\n",
            "1 0.508 (0.049) 0.651 (0.022) 0.581 (0.042)\n",
            "instance (i.e. inlier). Then these two observations together, which we refer to as the “performance\n",
            "flip” issue, suggest a revised statement: the models always consider the graphs from one fixed\n",
            "class to be more outlier than those from the other, irrespective of which one is down-\n",
            "sampled. In other words, it is not that the down-sampled class has impact on the performance,\n",
            "in contrast, the ranking by the models is agnostic to this so-called “ground-truth” but rather has\n",
            "a pre-determined bias toward one (fixed) class. Notice that this happens to be class 0 on DD and\n",
            "PROTEINS and class 1 on NCI1 for the three detectors.\n",
            "Observation 1.3 (Performance flip is more severe for “X&Non-X” datasets). For “X&Non-\n",
            "X” type datasets, the performance flip occurs more often and more severely (more often having larger\n",
            "performance gap) compared to “X&Y” type datasets.\n",
            "In Table 1, the 3 datasets with performance flip are all “X&Non-X” datasets while IMDB is “X&Y”\n",
            "type. Furthermore, full results in Table 4 and Table 5 also support that performance flip occurs more\n",
            "often and performance gap is larger in distribution (e.g., at rate 67.3% vs. 30.6% for performance\n",
            "gap≥0.2) on “X&Non-X” datasets than “X&Y” datasets.\n",
            "Observation 1.4 (Correlation between performance and class semantics). For propagation\n",
            "based methods, down-sampling “Non-X” class as outlier in“X&Non-X” dataset always achieves high\n",
            "performance. However it is not always true for other methods.\n",
            "By definition “X” class refers to a category of instances that likely exhibit characteristic patterns\n",
            "of the class, while the “Non-X” class contains many patterns out of the “X” class. By aligning\n",
            "the performance result (Table 4) with class semantics shown in Table 2, we find clearly that all\n",
            "propagation based methods achieve high performance for down-sampling “Non-X”. This supports\n",
            "our following analysis over propagation based methods, where we find that these methods have\n",
            "larger sparsification rate for more diverse classes.\n",
            "We conclude with four remarks. First, note that although the ranking of models by performance\n",
            "differs from dataset to dataset, the performance-flip and AUCs-sum-approximately-to-1 behaviors\n",
            "are consistent across models. Second, the issue does not appear to be universal as it does not\n",
            "arise on IMDB (cf. Table 1), where all models are better than random on both variants. Third,\n",
            "9\n"
          ]
        }
      ]
    },
    {
      "cell_type": "code",
      "source": [
        "len(pdf_data[0].page_content)"
      ],
      "metadata": {
        "colab": {
          "base_uri": "https://localhost:8080/"
        },
        "id": "Y4aaTFRrJa0-",
        "outputId": "a88196b7-84b7-4b4b-e451-a38cf6b09772"
      },
      "execution_count": null,
      "outputs": [
        {
          "output_type": "execute_result",
          "data": {
            "text/plain": [
              "3931"
            ]
          },
          "metadata": {},
          "execution_count": 36
        }
      ]
    },
    {
      "cell_type": "markdown",
      "source": [
        "**CharacterTextSplitter**:\n",
        "* Tries to preserve paragraphs, sentences, and words as coherent units.\n",
        "* Can specify chunk_size, chunk_overlap, and separator.\n",
        "* Does not automatically handle very large chunks; instead, it relies on the user setting appropriate values for chunk_size and chunk_overlap.\n",
        "\n",
        "**RecursiveCharacterTextSplitter**:\n",
        "* Similar to CharacterTextSplitter, but adds recursive splitting capabilities.\n",
        "* Automatically handles very large chunks by attempting to split them according to the specified chunk_size and separator list.\n",
        "* If a chunk remains too large after the first round of splitting, it will try again with subsequent separators in the list."
      ],
      "metadata": {
        "id": "ih4ukxTNI_fx"
      }
    },
    {
      "cell_type": "code",
      "source": [
        "from langchain.text_splitter import CharacterTextSplitter, RecursiveCharacterTextSplitter\n",
        "\n",
        "# split on \"\\n\\n\"\n",
        "splitterC = CharacterTextSplitter(\n",
        "    chunk_size = 1000,\n",
        "    chunk_overlap = 0\n",
        ")\n",
        "\n",
        "# split [\"\\n\\n\", \"\\n\", \" \", \"\" ]\n",
        "splitterR = RecursiveCharacterTextSplitter(\n",
        "     chunk_size = 1000,\n",
        "     chunk_overlap = 0\n",
        ")\n",
        "\n",
        "pdf_data_CS = pdf_loader.load_and_split(text_splitter=splitterC)\n",
        "pdf_data_RS = pdf_loader.load_and_split(text_splitter=splitterR)"
      ],
      "metadata": {
        "id": "yOI01fHAI_PY"
      },
      "execution_count": null,
      "outputs": []
    },
    {
      "cell_type": "code",
      "source": [
        "len(pdf_data_CS)"
      ],
      "metadata": {
        "colab": {
          "base_uri": "https://localhost:8080/"
        },
        "id": "dhU32Me9J21L",
        "outputId": "1054e4a5-460e-4bc9-af66-c250bbd05b81"
      },
      "execution_count": null,
      "outputs": [
        {
          "output_type": "execute_result",
          "data": {
            "text/plain": [
              "30"
            ]
          },
          "metadata": {},
          "execution_count": 42
        }
      ]
    },
    {
      "cell_type": "code",
      "source": [
        "len(pdf_data_RS)"
      ],
      "metadata": {
        "colab": {
          "base_uri": "https://localhost:8080/"
        },
        "id": "9PlNp5nrJ5AJ",
        "outputId": "b15888ed-aadf-4470-8db2-7ab1bf290afc"
      },
      "execution_count": null,
      "outputs": [
        {
          "output_type": "execute_result",
          "data": {
            "text/plain": [
              "141"
            ]
          },
          "metadata": {},
          "execution_count": 43
        }
      ]
    },
    {
      "cell_type": "code",
      "source": [
        "len((pdf_data_RS[1].page_content))"
      ],
      "metadata": {
        "colab": {
          "base_uri": "https://localhost:8080/"
        },
        "id": "rBV8ED-kp91e",
        "outputId": "fdaaa2b2-24ff-4f33-edc5-f6e733e8ddb4"
      },
      "execution_count": null,
      "outputs": [
        {
          "output_type": "execute_result",
          "data": {
            "text/plain": [
              "915"
            ]
          },
          "metadata": {},
          "execution_count": 44
        }
      ]
    },
    {
      "cell_type": "code",
      "source": [
        "print(pdf_data_RS[0].page_content)"
      ],
      "metadata": {
        "colab": {
          "base_uri": "https://localhost:8080/"
        },
        "id": "j4LkI2okJ7VH",
        "outputId": "aa491b15-5f74-4fd9-f12e-a62e25d16328"
      },
      "execution_count": null,
      "outputs": [
        {
          "output_type": "stream",
          "name": "stdout",
          "text": [
            "On Using Classification Datasets to Evaluate Graph Outlier\n",
            "Detection: Peculiar Observations and New Insights\n",
            "LINGXIAO ZHAO, Heinz College - Information Systems & Public Policy, Carnegie Mellon University, USA\n",
            "LEMAN AKOGLU, Heinz College - Information Systems & Public Policy, Carnegie Mellon University, USA\n",
            "It is common practice of the outlier mining community to repurpose classification datasets toward evaluating\n",
            "various detection models. To that end, often a binary classification dataset is used, where samples from\n",
            "one of the classes is designated as the ‘inlier’ samples, and the other class is substantially down-sampled\n",
            "to create the (ground-truth) ‘outlier’ samples. Graph-level outlier detection (GLOD) is rarely studied but\n",
            "has many potentially influential real-world applications. In this study, we identify an intriguing issue with\n",
            "repurposing graph classification datasets for GLOD . We find that ROC-AUC performance of the models\n"
          ]
        }
      ]
    },
    {
      "cell_type": "code",
      "source": [
        "from langchain.chains.summarize import load_summarize_chain\n",
        "from langchain.chat_models import ChatOpenAI"
      ],
      "metadata": {
        "id": "UkHFkTWmKFBy"
      },
      "execution_count": null,
      "outputs": []
    },
    {
      "cell_type": "markdown",
      "source": [
        "In this example we are using OpenAI for simplify the process and avoid waiting for the models to be downloaded ..etc.\n",
        "\n",
        "I am reading my OpenAI credentials from an uploaded file `env.cfg`\n",
        "using the follownig format:\n",
        "\n",
        "```\n",
        "[OPENAI]\n",
        "api_key=abcdefghijklmnopqrstuv1234567890\n",
        "```\n",
        "where `abcdefghijklmnopqrstuv1234567890` is your key."
      ],
      "metadata": {
        "id": "k7CMkT2CPYUr"
      }
    },
    {
      "cell_type": "code",
      "source": [
        "# Load OPENAI and API_KEY\n",
        "import configparser\n",
        "import os\n",
        "config = configparser.ConfigParser()\n",
        "\n",
        "file = '/content/env.cfg'\n",
        "config.read_file(open(file))\n",
        "\n",
        "os.environ['OPENAI_API_KEY'] = config['OPENAI']['api_key']"
      ],
      "metadata": {
        "id": "D7VZBYJEKOLU"
      },
      "execution_count": null,
      "outputs": []
    },
    {
      "cell_type": "markdown",
      "source": [
        "## The Stuff Chain Example\n",
        "\n",
        "![img](https://js.langchain.com/v0.1/assets/images/stuff-818da4c66ee17911bc8861c089316579.jpg)"
      ],
      "metadata": {
        "id": "S8UMFN29sjRh"
      }
    },
    {
      "cell_type": "code",
      "source": [
        "len(pdf_data)"
      ],
      "metadata": {
        "id": "O_DzEzpUtuGM",
        "outputId": "e234a3f0-7054-442b-96f0-2e988f7aaecf",
        "colab": {
          "base_uri": "https://localhost:8080/"
        }
      },
      "execution_count": null,
      "outputs": [
        {
          "output_type": "execute_result",
          "data": {
            "text/plain": [
              "47"
            ]
          },
          "metadata": {},
          "execution_count": 39
        }
      ]
    },
    {
      "cell_type": "code",
      "source": [
        "llm = ChatOpenAI(temperature=0, model_name=\"gpt-3.5-turbo-1106\")\n",
        "\n",
        "chain = load_summarize_chain(\n",
        "    llm=llm,\n",
        "    chain_type='stuff'\n",
        ")\n",
        "\n",
        "chain.run(pdf_data[0:22])"
      ],
      "metadata": {
        "colab": {
          "base_uri": "https://localhost:8080/",
          "height": 174
        },
        "id": "Bf04FwacKJBq",
        "outputId": "6d1a1c96-a8ef-44b7-9467-4b591f2f1b24"
      },
      "execution_count": null,
      "outputs": [
        {
          "output_type": "stream",
          "name": "stderr",
          "text": [
            "/usr/local/lib/python3.10/dist-packages/langchain_core/_api/deprecation.py:141: LangChainDeprecationWarning: The class `ChatOpenAI` was deprecated in LangChain 0.0.10 and will be removed in 0.3.0. An updated version of the class exists in the langchain-openai package and should be used instead. To use it run `pip install -U langchain-openai` and import as `from langchain_openai import ChatOpenAI`.\n",
            "  warn_deprecated(\n",
            "/usr/local/lib/python3.10/dist-packages/langchain_core/_api/deprecation.py:141: LangChainDeprecationWarning: The method `Chain.run` was deprecated in langchain 0.1.0 and will be removed in 0.3.0. Use invoke instead.\n",
            "  warn_deprecated(\n"
          ]
        },
        {
          "output_type": "execute_result",
          "data": {
            "text/plain": [
              "'The study investigates the use of classification datasets for evaluating graph outlier detection models. The authors identify an issue where the performance of outlier detection models changes significantly depending on which class is down-sampled. They hypothesize that this issue is due to density disparity and overlapping support in the graph embedding space. The study includes empirical analysis and measurements to support their hypothesis. The findings have implications for the evaluation and design of graph outlier detection models.'"
            ],
            "application/vnd.google.colaboratory.intrinsic+json": {
              "type": "string"
            }
          },
          "metadata": {},
          "execution_count": 40
        }
      ]
    },
    {
      "cell_type": "code",
      "source": [
        "llm = ChatOpenAI(temperature=0, model_name=\"gpt-3.5-turbo-1106\")\n",
        "\n",
        "chain = load_summarize_chain(\n",
        "    llm=llm,\n",
        "    chain_type='stuff'\n",
        ")\n",
        "\n",
        "chain.run(pdf_data[0:22])"
      ],
      "metadata": {
        "id": "iM7VN6nZt7uq",
        "outputId": "7beb33e4-020a-41b8-d946-6479281d2411",
        "colab": {
          "base_uri": "https://localhost:8080/",
          "height": 106
        }
      },
      "execution_count": null,
      "outputs": [
        {
          "output_type": "execute_result",
          "data": {
            "text/plain": [
              "'The paper proposes a nonparametric approach for generating probabilistic forecasts of solar power generation. The method is evaluated and compared with other benchmarks, showing that it provides reliable and sharp predictive densities for very short-term lead times. The proposed approach outperforms other benchmarks in terms of reliability and sharpness, making it suitable for online or real-time prediction. The study also investigates the normalization of PV power with respect to clear sky power, but finds'"
            ],
            "application/vnd.google.colaboratory.intrinsic+json": {
              "type": "string"
            }
          },
          "metadata": {},
          "execution_count": 31
        }
      ]
    },
    {
      "cell_type": "code",
      "source": [
        "print(chain.llm_chain.prompt.template)"
      ],
      "metadata": {
        "id": "ca04S7MvuIfT",
        "outputId": "8e0279eb-53c8-4bbd-dbf4-b5c4af5d17b8",
        "colab": {
          "base_uri": "https://localhost:8080/"
        }
      },
      "execution_count": null,
      "outputs": [
        {
          "output_type": "stream",
          "name": "stdout",
          "text": [
            "Write a concise summary of the following:\n",
            "\n",
            "\n",
            "\"{text}\"\n",
            "\n",
            "\n",
            "CONCISE SUMMARY:\n"
          ]
        }
      ]
    },
    {
      "cell_type": "code",
      "source": [
        "# the same but with a custom prompt\n",
        "\n",
        "from langchain.prompts import PromptTemplate\n",
        "\n",
        "template = \"\"\"\n",
        "\n",
        "Write a summary that highlights the main ideas as bullet points of the following:\n",
        "\n",
        "\n",
        "\"{text}\"\n",
        "\n",
        "\n",
        "SUMMARY IN BULLETS:\n",
        "\n",
        "\"\"\"\n",
        "\n",
        "prompt = PromptTemplate.from_template(template)\n",
        "\n",
        "chain = load_summarize_chain(\n",
        "    llm=llm,\n",
        "    chain_type='stuff',\n",
        "    prompt=prompt\n",
        ")\n",
        "\n",
        "print(chain.run(pdf_data[0:22]))"
      ],
      "metadata": {
        "id": "vAYU3P7xKsk2",
        "outputId": "367f5a94-d559-43bc-cbfc-d13f4cfbeccd",
        "colab": {
          "base_uri": "https://localhost:8080/"
        }
      },
      "execution_count": null,
      "outputs": [
        {
          "output_type": "stream",
          "name": "stdout",
          "text": [
            "- The study focuses on the use of classification datasets for evaluating graph outlier detection models\n",
            "- The study identifies an issue with repurposing graph classification datasets for graph-level outlier detection (GLOD)\n",
            "- The issue is characterized by a significant change in model performance depending on which class is down-sampled\n",
            "- The study identifies two driving factors behind the issue: density disparity and overlapping support in the graph embedding space\n",
            "- The study presents qualitative and quantitative measures to analyze the density disparity and overlapping support\n",
            "- The study conducts simulations to better understand the disparity in sparsification rates between different classes\n",
            "- The study provides a comprehensive performance study for 10 datasets and 11 detection models, supporting the hypothesis of the driving mechanisms behind the issue.\n"
          ]
        }
      ]
    },
    {
      "cell_type": "markdown",
      "source": [
        "## The MapReduce Chain Example\n",
        "\n",
        "![img](https://js.langchain.com/v0.1/assets/images/map_reduce-c65525a871b62f5cacef431625c4d133.jpg)"
      ],
      "metadata": {
        "id": "Hl72XKnDslz2"
      }
    },
    {
      "cell_type": "code",
      "source": [
        "chain = load_summarize_chain(\n",
        "    llm=llm,\n",
        "    chain_type='map_reduce',\n",
        "    verbose=False\n",
        ")\n",
        "\n",
        "chain.run(pdf_data)"
      ],
      "metadata": {
        "colab": {
          "base_uri": "https://localhost:8080/",
          "height": 86
        },
        "id": "o-EfL-j0spLJ",
        "outputId": "72b95caf-9773-4b4d-dbca-298cd6d5c9ac"
      },
      "execution_count": null,
      "outputs": [
        {
          "output_type": "execute_result",
          "data": {
            "text/plain": [
              "'Zhao and Akoglu\\'s study explores the use of classification datasets to evaluate graph outlier detection models, focusing on the \"performance flip\" issue and the challenges of using classification datasets for evaluating outlier detection models. The study emphasizes the importance of reliable benchmark datasets for outlier detection and proposes measures to quantify these factors. It also provides insights into the challenges of evaluating graph outlier detection and highlights the potential implications of these issues on graph classification and clustering tasks.'"
            ],
            "application/vnd.google.colaboratory.intrinsic+json": {
              "type": "string"
            }
          },
          "metadata": {},
          "execution_count": 46
        }
      ]
    },
    {
      "cell_type": "code",
      "source": [
        "#chain"
      ],
      "metadata": {
        "id": "O8FNis6RspAT"
      },
      "execution_count": null,
      "outputs": []
    },
    {
      "cell_type": "code",
      "source": [
        "print(chain.llm_chain.prompt.template)"
      ],
      "metadata": {
        "id": "TqcjB5m-cMVK",
        "outputId": "cdc2ef0e-6c23-4d2d-d697-ccc975734136",
        "colab": {
          "base_uri": "https://localhost:8080/"
        }
      },
      "execution_count": null,
      "outputs": [
        {
          "output_type": "stream",
          "name": "stdout",
          "text": [
            "Write a concise summary of the following:\n",
            "\n",
            "\n",
            "\"{text}\"\n",
            "\n",
            "\n",
            "CONCISE SUMMARY:\n"
          ]
        }
      ]
    },
    {
      "cell_type": "code",
      "source": [
        "print(chain.combine_document_chain.llm_chain.prompt.template)"
      ],
      "metadata": {
        "id": "9EwL4DyKcZt-",
        "outputId": "44fa58ae-60b1-4464-f75a-a44714fa4c27",
        "colab": {
          "base_uri": "https://localhost:8080/"
        }
      },
      "execution_count": null,
      "outputs": [
        {
          "output_type": "stream",
          "name": "stdout",
          "text": [
            "Write a concise summary of the following:\n",
            "\n",
            "\n",
            "\"{text}\"\n",
            "\n",
            "\n",
            "CONCISE SUMMARY:\n"
          ]
        }
      ]
    },
    {
      "cell_type": "code",
      "source": [
        "# custom prompt\n",
        "map_template = \"\"\"The following is a set of documents\n",
        "\n",
        "{text}\n",
        "\n",
        "Based on this list of docs, please identify the main themes\n",
        "\n",
        "Helpful Answer:\n",
        "\"\"\"\n",
        "\n",
        "combine_template = \"\"\"The following is a set of summaries:\n",
        "\n",
        "{text}\n",
        "\n",
        "Take these and distill it into a final, consolidate list of the main themes.\n",
        "Return that list as comma seperated list.\n",
        "\n",
        "Helpful Answer:\"\"\"\n",
        "\n",
        "map_prompt = PromptTemplate.from_template(map_template)\n",
        "combined_prompt = PromptTemplate.from_template(combine_template)\n",
        "\n",
        "chain = load_summarize_chain(\n",
        "    llm=llm,\n",
        "    chain_type='map_reduce',\n",
        "    map_prompt=map_prompt,\n",
        "    combine_prompt=combined_prompt,\n",
        "    verbose=False\n",
        ")\n",
        "\n",
        "chain.run(pdf_data)"
      ],
      "metadata": {
        "id": "viVB70BDc0rS",
        "outputId": "7cbd449e-4c3f-47fd-db88-d8c36cf2a294",
        "colab": {
          "base_uri": "https://localhost:8080/",
          "height": 106
        }
      },
      "execution_count": null,
      "outputs": [
        {
          "output_type": "execute_result",
          "data": {
            "text/plain": [
              "'Probabilistic forecasting for solar and wind power generation, Impact of variability and uncertainty in renewable energy generation, Short-term forecasting for solar and wind power, Integration of renewables in electricity markets, Uncertainty quantification in power system operation, Renewable energy generation and forecasting, Energy analytics and markets, Optimization under uncertainty, Microgrid energy management systems, Electricity markets and spinning reserve, Energy storage'"
            ],
            "application/vnd.google.colaboratory.intrinsic+json": {
              "type": "string"
            }
          },
          "metadata": {},
          "execution_count": 51
        }
      ]
    },
    {
      "cell_type": "code",
      "source": [
        "# # verbose = True\n",
        "\n",
        "# chain = load_summarize_chain(\n",
        "#     llm=llm,\n",
        "#     chain_type='map_reduce',\n",
        "#     map_prompt=map_prompt,\n",
        "#     combine_prompt=combined_prompt,\n",
        "#     verbose=False\n",
        "# )\n",
        "\n",
        "# chain.run(pdf_data)"
      ],
      "metadata": {
        "id": "uiCboc9LeqGq"
      },
      "execution_count": null,
      "outputs": []
    },
    {
      "cell_type": "markdown",
      "source": [
        "## The Refine Chain Example\n",
        "\n",
        "![img](https://js.langchain.com/v0.1/assets/images/refine-a70f30dd7ada6fe5e3fcc40dd70de037.jpg)"
      ],
      "metadata": {
        "id": "msXtaY3HsqKV"
      }
    },
    {
      "cell_type": "code",
      "source": [
        "chain = load_summarize_chain(\n",
        "    llm=llm,\n",
        "    chain_type='refine',\n",
        "    verbose=False\n",
        ")\n",
        "\n",
        "chain.run(pdf_data)"
      ],
      "metadata": {
        "id": "jQrGnMHPfDNI",
        "outputId": "f07e1a61-3a12-4d1e-da2f-60836b465fea",
        "colab": {
          "base_uri": "https://localhost:8080/",
          "height": 120
        }
      },
      "execution_count": null,
      "outputs": [
        {
          "output_type": "execute_result",
          "data": {
            "text/plain": [
              "'The existing summary provides a comprehensive overview of the study, which explores the use of classification datasets to evaluate graph outlier detection models, specifically focusing on graph-level outlier detection (GLOD). The authors identify a significant issue with repurposing graph classification datasets for GLOD, where the performance of models changes drastically depending on which class is down-sampled. They also discuss the implications of this issue and raise questions about the appropriateness of evaluating GLOD using average performance across all downsampled versions and the potential for designing better graph embedding methods to overcome the issue. The paper highlights the challenges of outlier detection and the scarcity of labeled benchmark datasets for evaluation. Additionally, the study scrutinizes the strategy of repurposing classification datasets for outlier detection and raises questions about the appropriateness of this approach. The authors also illustrate the \"performance flip\" issue empirically and discuss the implications of this issue in the context of outlier detection in graph databases. The study also provides a comprehensive overview of related work and highlights the lack of prior identification of the performance flip issue in outlier mining. The study aims to identify the leading factors behind these issues and propose concrete measures to quantify these factors and explain their possible driving mechanisms with a focus on propagation-based graph embedding. The study also provides insights into the driving factors behind the \"performance flip\" issue and offers open-source access to all methods and datasets used in the study to facilitate further investigation into the issues raised. The study also observes the persistence of the performance flip across various other embedding methods and outlier detectors, raising important problems to tackle GLOD. Additionally, the study points out that the issues identified may extend beyond outlier detection, with possible implications on graph classification and clustering, as well as the potential impact on graph neural networks. The study also demonstrates the persistence of the performance flip issue with specific graph embedding methods and discusses the implications of this issue in the context of two-stage graph outlier detection approaches. The study also delves into the challenges of graph outlier detection and the potential impact on graph neural networks, highlighting the need for further research and development in this area. The study also provides visualizations of the sparsification property of WL kernel and propagation kernel, as well as discusses the end-to-end deep graph outlier detection using graph neural networks. Additionally, the study introduces a GNN model adapted from graph classification and leverages a one-class classification objective function to address graph-level outlier detection, providing further insights into the development of new algorithms for GLOD. The study also provides a measurement study using the proposed measures for propagation-based methods to verify the hypothesis and discusses the close connection between GNN models and propagation-based graph kernels. The study also provides comprehensive performance evaluation for two-stage methods based on Graph2Vec and FGSD and discusses its implications. The study also reports the main observation of a \"performance flip\" issue, where the performances of detecting outliers depend significantly on which class is down-sampled, resulting in a large performance gap between two down-sampled variants. The study also highlights the large ROC-AUC gap and the sum of the two ROC-AUC values on the two variants of each dataset being approximately equal to 1, consistently across all models. The study also presents new observations, including the \"performance flip\" issue being more severe for \"X&Non-X\" datasets and the correlation between performance and class semantics. These new insights provide a deeper understanding of the challenges and implications of using classification datasets for graph outlier detection, emphasizing the need for further research and development in this area. The study also introduces additional observations, including the invariance of performance to down-sampling rate and the growing performance gap with propagation for propagation-based methods. These observations provide further insights into the complexities of graph outlier detection and highlight the need for continued investigation and potential solutions to address these issues. The study also provides visualizations and discusses the driving mechanisms behind the observed issues, contributing to a more comprehensive understanding of the challenges in graph outlier detection. The study also aims to build an understanding of the leading factors behind the unusual observations presented, focusing on investigating pairwise similarities among all graphs before down-sampling, which convey important information about the density of and the distance between the graphs across classes in the graph embedding space. The study also delves into the driving mechanisms behind the observed issues, providing a deeper understanding of the challenges in graph outlier detection and emphasizing the need for further research and development in this area. The study also includes additional or corresponding figures in the Appendix section of the arXiv submission. The study also introduces concrete measures to quantify the factors leading to the observed unusual behaviors, providing both qualitative visualizations and quantitative measures to support their findings. The study also provides a deeper analysis on the embedding sparsity issue, including simulations to better understand the disparity in sparsification rates between two classes and the effect of increasing perturbations on the distance growth. These additional insights contribute to a more comprehensive understanding of the challenges in graph outlier detection and emphasize the need for continued research and development in this area. The study also provides new context on the growth of graph distance over iterations and the sensitivity of sparsification to various factors, further contributing to the understanding of the challenges in graph outlier detection. Additionally, the study provides detailed information on the model configurations and measurement studies, offering a comprehensive view of the experimental setup and analysis conducted in the study. The study provides a thorough and detailed exploration of the challenges and implications of using classification datasets for graph outlier detection, highlighting the need for further research and development in this area. The study sheds light onto the leading factors (density disparity and overlapping support) as well as contributing factors (graph propagation) behind the performance flip issue, providing a deeper understanding of the challenges in graph outlier detection and emphasizing the need for continued research and development in this area. The study also presents a performance study of all GLOD methods, addressing questions about the restriction of the performance flip to propagation-based methods and the influence of dataset semantics on the performance flip. The study also delves into the impact of each stage in two-stage methods on the performance flip and compares the advantages of end-to-end methods over two-stage methods. The study also addresses key questions that are important to the GLOD task and provides understanding and hypothesis for the observations made. The study also provides a comprehensive analysis of the average ROC-AUC of different graph embedding methods and outlier detectors over various datasets, highlighting the widespread occurrence of the performance flip issue. The study carefully analyzes the results to demonstrate that the performance flip is not restricted to propagation-based methods but arises more generally for other methods as well. The study also introduces new observations, including the influence of dataset semantics on the performance flip and the impact of both graph embedding and outlier detection methods on the occurrence and severity of the performance flip. These new insights contribute to a deeper understanding of the challenges in graph outlier detection and emphasize the need for continued research and development in this area. The study also provides a comprehensive analysis of the performance flip issue for different GLOD methods, shedding light on the factors contributing to this issue and emphasizing the need for further research and development in this area. The study also presents three key questions for GLOD based on their observations and aims to draw the community’s attention toward answering them. The study concludes by summarizing the challenges and implications of using classification datasets for graph outlier detection and emphasizes the need for further research and development in this area. The study also provides new insights into the factors contributing to the performance flip issue and raises important questions about evaluation, model selection, and graph embedding methods in the context of GLOD. The study also discusses the potential implications of the findings on graph-level clustering and classification tasks, as well as the transferability of the findings to non-graph settings. Additionally, the study raises the possibility of extending the analysis to the examination of class-level bias in model errors when multi-class classification datasets are used for outlier benchmark creation. The study also acknowledges the need for further research in these areas and provides a comprehensive list of references for further reading. The study also provides a comprehensive overview of the challenges and implications of using classification datasets for graph outlier detection, shedding light on the factors contributing to the performance flip issue and emphasizing the need for further research and development in this area.'"
            ],
            "application/vnd.google.colaboratory.intrinsic+json": {
              "type": "string"
            }
          },
          "metadata": {},
          "execution_count": 64
        }
      ]
    },
    {
      "cell_type": "code",
      "source": [
        "#chain"
      ],
      "metadata": {
        "id": "GI7HgYSafDuS"
      },
      "execution_count": null,
      "outputs": []
    },
    {
      "cell_type": "code",
      "source": [
        "print(chain.initial_llm_chain.prompt.template)"
      ],
      "metadata": {
        "id": "XVbMswFtfEMT",
        "outputId": "ba3317d4-943a-45dd-bbd1-360c48a25623",
        "colab": {
          "base_uri": "https://localhost:8080/"
        }
      },
      "execution_count": null,
      "outputs": [
        {
          "output_type": "stream",
          "name": "stdout",
          "text": [
            "Write a concise summary of the following:\n",
            "\n",
            "\n",
            "\"{text}\"\n",
            "\n",
            "\n",
            "CONCISE SUMMARY:\n"
          ]
        }
      ]
    },
    {
      "cell_type": "code",
      "source": [
        "print(chain.refine_llm_chain.prompt.template)"
      ],
      "metadata": {
        "id": "Fe4zwcq4fhMH",
        "outputId": "7e2cb724-1d95-4033-8afd-3ead7c4ee10c",
        "colab": {
          "base_uri": "https://localhost:8080/"
        }
      },
      "execution_count": null,
      "outputs": [
        {
          "output_type": "stream",
          "name": "stdout",
          "text": [
            "Your job is to produce a final summary.\n",
            "We have provided an existing summary up to a certain point: {existing_answer}\n",
            "We have the opportunity to refine the existing summary (only if needed) with some more context below.\n",
            "------------\n",
            "{text}\n",
            "------------\n",
            "Given the new context, refine the original summary.\n",
            "If the context isn't useful, return the original summary.\n"
          ]
        }
      ]
    },
    {
      "cell_type": "code",
      "source": [
        "initial_template = \"\"\"\n",
        "Extract the most relevant themes from the following:\n",
        "\n",
        "\"{text}\"\n",
        "\n",
        "THEMES:\n",
        "\"\"\"\n",
        "\n",
        "refine_template=\"\"\"\n",
        "Your job is to extract the most relevant themes.\n",
        "We have provided an existing list of themes up to a certain point: {existing_answer}\n",
        "We have the opportunity to refine the existing list (only if needed) with some more context below.\n",
        "------------\n",
        "{text}\n",
        "------------\n",
        "Given the new context, refine the original list.\n",
        "If the context isn't useful, return the original and ONLY the original list.\n",
        "Return that list as a comma seperated list.\n",
        "\n",
        "LIST:\n",
        "\"\"\"\n",
        "\n",
        "initial_prompt = PromptTemplate.from_template(initial_template)\n",
        "refine_prompt = PromptTemplate.from_template(refine_template)\n",
        "\n",
        "chain = load_summarize_chain(\n",
        "    llm=llm,\n",
        "    chain_type='refine',\n",
        "    question_prompt=initial_prompt,\n",
        "    refine_prompt=refine_prompt,\n",
        "    verbose=False\n",
        ")\n",
        "\n",
        "chain.run(pdf_data)"
      ],
      "metadata": {
        "id": "n6GMVcQffmxO",
        "outputId": "66ad6bae-48e2-4f57-8913-4e8ae66ceed7",
        "colab": {
          "base_uri": "https://localhost:8080/",
          "height": 103
        }
      },
      "execution_count": null,
      "outputs": [
        {
          "output_type": "execute_result",
          "data": {
            "text/plain": [
              "'5. Performance evaluation, 6. Graph embedding methods, 8. Benchmark datasets for outlier detection, 9. Ground-truth labels, 10. Scarcity of representative datasets, 11. Performance flip issue in outlier detection, 12. Graph-level outlier detection, 13. Graph-level outlier detection models, 14. Two-stage graph outlier detection, 15. Graph kernel based outlier detection, 16. Sparsification in graph kernels, 17. Subgraph-based outlier detection, 18. Density disparity in graph embeddings, 19. Overlapping support in graph embeddings, 20. Performance flip in propagation based methods, 21. Influence of dataset semantics on performance flip, 22. Impact of each stage in two-stage methods on performance flip, 23. Advantage of end-to-end method over two-stage methods.'"
            ],
            "application/vnd.google.colaboratory.intrinsic+json": {
              "type": "string"
            }
          },
          "metadata": {},
          "execution_count": 65
        }
      ]
    },
    {
      "cell_type": "code",
      "source": [],
      "metadata": {
        "id": "Bz1uxdOVfnU3"
      },
      "execution_count": null,
      "outputs": []
    },
    {
      "cell_type": "markdown",
      "source": [
        "## Example LangChain with pandas DataFrame\n",
        "* Data Source: SQLite Database\n",
        "* https://github.com/lerocha/chinook-database/blob/master/ChinookDatabase/DataSources/Chinook_Sqlite.sqlite"
      ],
      "metadata": {
        "id": "U_8LrTARK2cx"
      }
    },
    {
      "cell_type": "code",
      "source": [
        "import pandas as pd\n",
        "import sqlite3"
      ],
      "metadata": {
        "id": "JysJd6dvKLEN"
      },
      "execution_count": null,
      "outputs": []
    },
    {
      "cell_type": "code",
      "source": [
        "# Create connection to the Sqlite database\n",
        "con = sqlite3.connect(\"/content/Chinook_Sqlite.sqlite\")"
      ],
      "metadata": {
        "id": "-k_X0x8ALI8W"
      },
      "execution_count": null,
      "outputs": []
    },
    {
      "cell_type": "code",
      "source": [
        "query = '''\n",
        "select\n",
        "\tc.*,\n",
        "\ti.InvoiceDate ,\n",
        "\ti.Total as Sales ,\n",
        "\til.UnitPrice ,\n",
        "\til.Quantity ,\n",
        "\tt.Name as TrackName,\n",
        "\ta.Title as AlbumTitle,\n",
        "\ta2.Name as ArtistName,\n",
        "\tg.Name as Genre,\n",
        "\tmt.Name as MediaType\n",
        "from\n",
        "\tCustomer c\n",
        "join Invoice i on\n",
        "\tc.CustomerId = i.CustomerId\n",
        "join InvoiceLine il on\n",
        "\ti.InvoiceId = il.InvoiceId\n",
        "join Track t on\n",
        "\til.TrackId = t.TrackId\n",
        "join Album a on\n",
        "\tt.AlbumId = a.AlbumId\n",
        "join Artist a2 on\n",
        "\ta.ArtistId = a2.ArtistId\n",
        "join Genre g on\n",
        "\tt.GenreId = g.GenreId\n",
        "join MediaType mt on\n",
        "\tt.MediaTypeId = mt.MediaTypeId\n",
        "'''"
      ],
      "metadata": {
        "id": "BZnIaBa8LN3O"
      },
      "execution_count": null,
      "outputs": []
    },
    {
      "cell_type": "code",
      "source": [
        "# Read sqlite query results into a pandas DataFrame\n",
        "df = pd.read_sql_query(query, con)\n",
        "df.head()"
      ],
      "metadata": {
        "colab": {
          "base_uri": "https://localhost:8080/",
          "height": 474
        },
        "id": "OJoFyS2xLQdA",
        "outputId": "d5c181de-05d0-481f-b45d-9d8433dbbbb3"
      },
      "execution_count": null,
      "outputs": [
        {
          "output_type": "execute_result",
          "data": {
            "text/plain": [
              "   CustomerId FirstName LastName Company                  Address       City  \\\n",
              "0           2    Leonie   Köhler    None  Theodor-Heuss-Straße 34  Stuttgart   \n",
              "1           2    Leonie   Köhler    None  Theodor-Heuss-Straße 34  Stuttgart   \n",
              "2           4     Bjørn   Hansen    None         Ullevålsveien 14       Oslo   \n",
              "3           4     Bjørn   Hansen    None         Ullevålsveien 14       Oslo   \n",
              "4           4     Bjørn   Hansen    None         Ullevålsveien 14       Oslo   \n",
              "\n",
              "  State  Country PostalCode             Phone  ... SupportRepId  \\\n",
              "0  None  Germany      70174  +49 0711 2842222  ...            5   \n",
              "1  None  Germany      70174  +49 0711 2842222  ...            5   \n",
              "2  None   Norway       0171   +47 22 44 22 22  ...            4   \n",
              "3  None   Norway       0171   +47 22 44 22 22  ...            4   \n",
              "4  None   Norway       0171   +47 22 44 22 22  ...            4   \n",
              "\n",
              "           InvoiceDate  Sales UnitPrice  Quantity              TrackName  \\\n",
              "0  2009-01-01 00:00:00   1.98      0.99         1      Balls to the Wall   \n",
              "1  2009-01-01 00:00:00   1.98      0.99         1      Restless and Wild   \n",
              "2  2009-01-02 00:00:00   3.96      0.99         1  Put The Finger On You   \n",
              "3  2009-01-02 00:00:00   3.96      0.99         1       Inject The Venom   \n",
              "4  2009-01-02 00:00:00   3.96      0.99         1             Evil Walks   \n",
              "\n",
              "                              AlbumTitle ArtistName Genre  \\\n",
              "0                      Balls to the Wall     Accept  Rock   \n",
              "1                      Restless and Wild     Accept  Rock   \n",
              "2  For Those About To Rock We Salute You      AC/DC  Rock   \n",
              "3  For Those About To Rock We Salute You      AC/DC  Rock   \n",
              "4  For Those About To Rock We Salute You      AC/DC  Rock   \n",
              "\n",
              "                  MediaType  \n",
              "0  Protected AAC audio file  \n",
              "1  Protected AAC audio file  \n",
              "2           MPEG audio file  \n",
              "3           MPEG audio file  \n",
              "4           MPEG audio file  \n",
              "\n",
              "[5 rows x 22 columns]"
            ],
            "text/html": [
              "\n",
              "  <div id=\"df-10eb69c3-d411-4dee-b524-6829664167eb\" class=\"colab-df-container\">\n",
              "    <div>\n",
              "<style scoped>\n",
              "    .dataframe tbody tr th:only-of-type {\n",
              "        vertical-align: middle;\n",
              "    }\n",
              "\n",
              "    .dataframe tbody tr th {\n",
              "        vertical-align: top;\n",
              "    }\n",
              "\n",
              "    .dataframe thead th {\n",
              "        text-align: right;\n",
              "    }\n",
              "</style>\n",
              "<table border=\"1\" class=\"dataframe\">\n",
              "  <thead>\n",
              "    <tr style=\"text-align: right;\">\n",
              "      <th></th>\n",
              "      <th>CustomerId</th>\n",
              "      <th>FirstName</th>\n",
              "      <th>LastName</th>\n",
              "      <th>Company</th>\n",
              "      <th>Address</th>\n",
              "      <th>City</th>\n",
              "      <th>State</th>\n",
              "      <th>Country</th>\n",
              "      <th>PostalCode</th>\n",
              "      <th>Phone</th>\n",
              "      <th>...</th>\n",
              "      <th>SupportRepId</th>\n",
              "      <th>InvoiceDate</th>\n",
              "      <th>Sales</th>\n",
              "      <th>UnitPrice</th>\n",
              "      <th>Quantity</th>\n",
              "      <th>TrackName</th>\n",
              "      <th>AlbumTitle</th>\n",
              "      <th>ArtistName</th>\n",
              "      <th>Genre</th>\n",
              "      <th>MediaType</th>\n",
              "    </tr>\n",
              "  </thead>\n",
              "  <tbody>\n",
              "    <tr>\n",
              "      <th>0</th>\n",
              "      <td>2</td>\n",
              "      <td>Leonie</td>\n",
              "      <td>Köhler</td>\n",
              "      <td>None</td>\n",
              "      <td>Theodor-Heuss-Straße 34</td>\n",
              "      <td>Stuttgart</td>\n",
              "      <td>None</td>\n",
              "      <td>Germany</td>\n",
              "      <td>70174</td>\n",
              "      <td>+49 0711 2842222</td>\n",
              "      <td>...</td>\n",
              "      <td>5</td>\n",
              "      <td>2009-01-01 00:00:00</td>\n",
              "      <td>1.98</td>\n",
              "      <td>0.99</td>\n",
              "      <td>1</td>\n",
              "      <td>Balls to the Wall</td>\n",
              "      <td>Balls to the Wall</td>\n",
              "      <td>Accept</td>\n",
              "      <td>Rock</td>\n",
              "      <td>Protected AAC audio file</td>\n",
              "    </tr>\n",
              "    <tr>\n",
              "      <th>1</th>\n",
              "      <td>2</td>\n",
              "      <td>Leonie</td>\n",
              "      <td>Köhler</td>\n",
              "      <td>None</td>\n",
              "      <td>Theodor-Heuss-Straße 34</td>\n",
              "      <td>Stuttgart</td>\n",
              "      <td>None</td>\n",
              "      <td>Germany</td>\n",
              "      <td>70174</td>\n",
              "      <td>+49 0711 2842222</td>\n",
              "      <td>...</td>\n",
              "      <td>5</td>\n",
              "      <td>2009-01-01 00:00:00</td>\n",
              "      <td>1.98</td>\n",
              "      <td>0.99</td>\n",
              "      <td>1</td>\n",
              "      <td>Restless and Wild</td>\n",
              "      <td>Restless and Wild</td>\n",
              "      <td>Accept</td>\n",
              "      <td>Rock</td>\n",
              "      <td>Protected AAC audio file</td>\n",
              "    </tr>\n",
              "    <tr>\n",
              "      <th>2</th>\n",
              "      <td>4</td>\n",
              "      <td>Bjørn</td>\n",
              "      <td>Hansen</td>\n",
              "      <td>None</td>\n",
              "      <td>Ullevålsveien 14</td>\n",
              "      <td>Oslo</td>\n",
              "      <td>None</td>\n",
              "      <td>Norway</td>\n",
              "      <td>0171</td>\n",
              "      <td>+47 22 44 22 22</td>\n",
              "      <td>...</td>\n",
              "      <td>4</td>\n",
              "      <td>2009-01-02 00:00:00</td>\n",
              "      <td>3.96</td>\n",
              "      <td>0.99</td>\n",
              "      <td>1</td>\n",
              "      <td>Put The Finger On You</td>\n",
              "      <td>For Those About To Rock We Salute You</td>\n",
              "      <td>AC/DC</td>\n",
              "      <td>Rock</td>\n",
              "      <td>MPEG audio file</td>\n",
              "    </tr>\n",
              "    <tr>\n",
              "      <th>3</th>\n",
              "      <td>4</td>\n",
              "      <td>Bjørn</td>\n",
              "      <td>Hansen</td>\n",
              "      <td>None</td>\n",
              "      <td>Ullevålsveien 14</td>\n",
              "      <td>Oslo</td>\n",
              "      <td>None</td>\n",
              "      <td>Norway</td>\n",
              "      <td>0171</td>\n",
              "      <td>+47 22 44 22 22</td>\n",
              "      <td>...</td>\n",
              "      <td>4</td>\n",
              "      <td>2009-01-02 00:00:00</td>\n",
              "      <td>3.96</td>\n",
              "      <td>0.99</td>\n",
              "      <td>1</td>\n",
              "      <td>Inject The Venom</td>\n",
              "      <td>For Those About To Rock We Salute You</td>\n",
              "      <td>AC/DC</td>\n",
              "      <td>Rock</td>\n",
              "      <td>MPEG audio file</td>\n",
              "    </tr>\n",
              "    <tr>\n",
              "      <th>4</th>\n",
              "      <td>4</td>\n",
              "      <td>Bjørn</td>\n",
              "      <td>Hansen</td>\n",
              "      <td>None</td>\n",
              "      <td>Ullevålsveien 14</td>\n",
              "      <td>Oslo</td>\n",
              "      <td>None</td>\n",
              "      <td>Norway</td>\n",
              "      <td>0171</td>\n",
              "      <td>+47 22 44 22 22</td>\n",
              "      <td>...</td>\n",
              "      <td>4</td>\n",
              "      <td>2009-01-02 00:00:00</td>\n",
              "      <td>3.96</td>\n",
              "      <td>0.99</td>\n",
              "      <td>1</td>\n",
              "      <td>Evil Walks</td>\n",
              "      <td>For Those About To Rock We Salute You</td>\n",
              "      <td>AC/DC</td>\n",
              "      <td>Rock</td>\n",
              "      <td>MPEG audio file</td>\n",
              "    </tr>\n",
              "  </tbody>\n",
              "</table>\n",
              "<p>5 rows × 22 columns</p>\n",
              "</div>\n",
              "    <div class=\"colab-df-buttons\">\n",
              "\n",
              "  <div class=\"colab-df-container\">\n",
              "    <button class=\"colab-df-convert\" onclick=\"convertToInteractive('df-10eb69c3-d411-4dee-b524-6829664167eb')\"\n",
              "            title=\"Convert this dataframe to an interactive table.\"\n",
              "            style=\"display:none;\">\n",
              "\n",
              "  <svg xmlns=\"http://www.w3.org/2000/svg\" height=\"24px\" viewBox=\"0 -960 960 960\">\n",
              "    <path d=\"M120-120v-720h720v720H120Zm60-500h600v-160H180v160Zm220 220h160v-160H400v160Zm0 220h160v-160H400v160ZM180-400h160v-160H180v160Zm440 0h160v-160H620v160ZM180-180h160v-160H180v160Zm440 0h160v-160H620v160Z\"/>\n",
              "  </svg>\n",
              "    </button>\n",
              "\n",
              "  <style>\n",
              "    .colab-df-container {\n",
              "      display:flex;\n",
              "      gap: 12px;\n",
              "    }\n",
              "\n",
              "    .colab-df-convert {\n",
              "      background-color: #E8F0FE;\n",
              "      border: none;\n",
              "      border-radius: 50%;\n",
              "      cursor: pointer;\n",
              "      display: none;\n",
              "      fill: #1967D2;\n",
              "      height: 32px;\n",
              "      padding: 0 0 0 0;\n",
              "      width: 32px;\n",
              "    }\n",
              "\n",
              "    .colab-df-convert:hover {\n",
              "      background-color: #E2EBFA;\n",
              "      box-shadow: 0px 1px 2px rgba(60, 64, 67, 0.3), 0px 1px 3px 1px rgba(60, 64, 67, 0.15);\n",
              "      fill: #174EA6;\n",
              "    }\n",
              "\n",
              "    .colab-df-buttons div {\n",
              "      margin-bottom: 4px;\n",
              "    }\n",
              "\n",
              "    [theme=dark] .colab-df-convert {\n",
              "      background-color: #3B4455;\n",
              "      fill: #D2E3FC;\n",
              "    }\n",
              "\n",
              "    [theme=dark] .colab-df-convert:hover {\n",
              "      background-color: #434B5C;\n",
              "      box-shadow: 0px 1px 3px 1px rgba(0, 0, 0, 0.15);\n",
              "      filter: drop-shadow(0px 1px 2px rgba(0, 0, 0, 0.3));\n",
              "      fill: #FFFFFF;\n",
              "    }\n",
              "  </style>\n",
              "\n",
              "    <script>\n",
              "      const buttonEl =\n",
              "        document.querySelector('#df-10eb69c3-d411-4dee-b524-6829664167eb button.colab-df-convert');\n",
              "      buttonEl.style.display =\n",
              "        google.colab.kernel.accessAllowed ? 'block' : 'none';\n",
              "\n",
              "      async function convertToInteractive(key) {\n",
              "        const element = document.querySelector('#df-10eb69c3-d411-4dee-b524-6829664167eb');\n",
              "        const dataTable =\n",
              "          await google.colab.kernel.invokeFunction('convertToInteractive',\n",
              "                                                    [key], {});\n",
              "        if (!dataTable) return;\n",
              "\n",
              "        const docLinkHtml = 'Like what you see? Visit the ' +\n",
              "          '<a target=\"_blank\" href=https://colab.research.google.com/notebooks/data_table.ipynb>data table notebook</a>'\n",
              "          + ' to learn more about interactive tables.';\n",
              "        element.innerHTML = '';\n",
              "        dataTable['output_type'] = 'display_data';\n",
              "        await google.colab.output.renderOutput(dataTable, element);\n",
              "        const docLink = document.createElement('div');\n",
              "        docLink.innerHTML = docLinkHtml;\n",
              "        element.appendChild(docLink);\n",
              "      }\n",
              "    </script>\n",
              "  </div>\n",
              "\n",
              "\n",
              "<div id=\"df-d1d170d2-9d66-4348-8c8e-58b38ab57709\">\n",
              "  <button class=\"colab-df-quickchart\" onclick=\"quickchart('df-d1d170d2-9d66-4348-8c8e-58b38ab57709')\"\n",
              "            title=\"Suggest charts\"\n",
              "            style=\"display:none;\">\n",
              "\n",
              "<svg xmlns=\"http://www.w3.org/2000/svg\" height=\"24px\"viewBox=\"0 0 24 24\"\n",
              "     width=\"24px\">\n",
              "    <g>\n",
              "        <path d=\"M19 3H5c-1.1 0-2 .9-2 2v14c0 1.1.9 2 2 2h14c1.1 0 2-.9 2-2V5c0-1.1-.9-2-2-2zM9 17H7v-7h2v7zm4 0h-2V7h2v10zm4 0h-2v-4h2v4z\"/>\n",
              "    </g>\n",
              "</svg>\n",
              "  </button>\n",
              "\n",
              "<style>\n",
              "  .colab-df-quickchart {\n",
              "      --bg-color: #E8F0FE;\n",
              "      --fill-color: #1967D2;\n",
              "      --hover-bg-color: #E2EBFA;\n",
              "      --hover-fill-color: #174EA6;\n",
              "      --disabled-fill-color: #AAA;\n",
              "      --disabled-bg-color: #DDD;\n",
              "  }\n",
              "\n",
              "  [theme=dark] .colab-df-quickchart {\n",
              "      --bg-color: #3B4455;\n",
              "      --fill-color: #D2E3FC;\n",
              "      --hover-bg-color: #434B5C;\n",
              "      --hover-fill-color: #FFFFFF;\n",
              "      --disabled-bg-color: #3B4455;\n",
              "      --disabled-fill-color: #666;\n",
              "  }\n",
              "\n",
              "  .colab-df-quickchart {\n",
              "    background-color: var(--bg-color);\n",
              "    border: none;\n",
              "    border-radius: 50%;\n",
              "    cursor: pointer;\n",
              "    display: none;\n",
              "    fill: var(--fill-color);\n",
              "    height: 32px;\n",
              "    padding: 0;\n",
              "    width: 32px;\n",
              "  }\n",
              "\n",
              "  .colab-df-quickchart:hover {\n",
              "    background-color: var(--hover-bg-color);\n",
              "    box-shadow: 0 1px 2px rgba(60, 64, 67, 0.3), 0 1px 3px 1px rgba(60, 64, 67, 0.15);\n",
              "    fill: var(--button-hover-fill-color);\n",
              "  }\n",
              "\n",
              "  .colab-df-quickchart-complete:disabled,\n",
              "  .colab-df-quickchart-complete:disabled:hover {\n",
              "    background-color: var(--disabled-bg-color);\n",
              "    fill: var(--disabled-fill-color);\n",
              "    box-shadow: none;\n",
              "  }\n",
              "\n",
              "  .colab-df-spinner {\n",
              "    border: 2px solid var(--fill-color);\n",
              "    border-color: transparent;\n",
              "    border-bottom-color: var(--fill-color);\n",
              "    animation:\n",
              "      spin 1s steps(1) infinite;\n",
              "  }\n",
              "\n",
              "  @keyframes spin {\n",
              "    0% {\n",
              "      border-color: transparent;\n",
              "      border-bottom-color: var(--fill-color);\n",
              "      border-left-color: var(--fill-color);\n",
              "    }\n",
              "    20% {\n",
              "      border-color: transparent;\n",
              "      border-left-color: var(--fill-color);\n",
              "      border-top-color: var(--fill-color);\n",
              "    }\n",
              "    30% {\n",
              "      border-color: transparent;\n",
              "      border-left-color: var(--fill-color);\n",
              "      border-top-color: var(--fill-color);\n",
              "      border-right-color: var(--fill-color);\n",
              "    }\n",
              "    40% {\n",
              "      border-color: transparent;\n",
              "      border-right-color: var(--fill-color);\n",
              "      border-top-color: var(--fill-color);\n",
              "    }\n",
              "    60% {\n",
              "      border-color: transparent;\n",
              "      border-right-color: var(--fill-color);\n",
              "    }\n",
              "    80% {\n",
              "      border-color: transparent;\n",
              "      border-right-color: var(--fill-color);\n",
              "      border-bottom-color: var(--fill-color);\n",
              "    }\n",
              "    90% {\n",
              "      border-color: transparent;\n",
              "      border-bottom-color: var(--fill-color);\n",
              "    }\n",
              "  }\n",
              "</style>\n",
              "\n",
              "  <script>\n",
              "    async function quickchart(key) {\n",
              "      const quickchartButtonEl =\n",
              "        document.querySelector('#' + key + ' button');\n",
              "      quickchartButtonEl.disabled = true;  // To prevent multiple clicks.\n",
              "      quickchartButtonEl.classList.add('colab-df-spinner');\n",
              "      try {\n",
              "        const charts = await google.colab.kernel.invokeFunction(\n",
              "            'suggestCharts', [key], {});\n",
              "      } catch (error) {\n",
              "        console.error('Error during call to suggestCharts:', error);\n",
              "      }\n",
              "      quickchartButtonEl.classList.remove('colab-df-spinner');\n",
              "      quickchartButtonEl.classList.add('colab-df-quickchart-complete');\n",
              "    }\n",
              "    (() => {\n",
              "      let quickchartButtonEl =\n",
              "        document.querySelector('#df-d1d170d2-9d66-4348-8c8e-58b38ab57709 button');\n",
              "      quickchartButtonEl.style.display =\n",
              "        google.colab.kernel.accessAllowed ? 'block' : 'none';\n",
              "    })();\n",
              "  </script>\n",
              "</div>\n",
              "\n",
              "    </div>\n",
              "  </div>\n"
            ],
            "application/vnd.google.colaboratory.intrinsic+json": {
              "type": "dataframe",
              "variable_name": "df"
            }
          },
          "metadata": {},
          "execution_count": 79
        }
      ]
    },
    {
      "cell_type": "code",
      "source": [
        "df.info()"
      ],
      "metadata": {
        "colab": {
          "base_uri": "https://localhost:8080/"
        },
        "id": "TL4YYV7aLedr",
        "outputId": "71d3628f-5be3-4130-e730-8d8944b68a90"
      },
      "execution_count": null,
      "outputs": [
        {
          "output_type": "stream",
          "name": "stdout",
          "text": [
            "<class 'pandas.core.frame.DataFrame'>\n",
            "RangeIndex: 2240 entries, 0 to 2239\n",
            "Data columns (total 22 columns):\n",
            " #   Column        Non-Null Count  Dtype  \n",
            "---  ------        --------------  -----  \n",
            " 0   CustomerId    2240 non-null   int64  \n",
            " 1   FirstName     2240 non-null   object \n",
            " 2   LastName      2240 non-null   object \n",
            " 3   Company       380 non-null    object \n",
            " 4   Address       2240 non-null   object \n",
            " 5   City          2240 non-null   object \n",
            " 6   State         1140 non-null   object \n",
            " 7   Country       2240 non-null   object \n",
            " 8   PostalCode    2088 non-null   object \n",
            " 9   Phone         2202 non-null   object \n",
            " 10  Fax           456 non-null    object \n",
            " 11  Email         2240 non-null   object \n",
            " 12  SupportRepId  2240 non-null   int64  \n",
            " 13  InvoiceDate   2240 non-null   object \n",
            " 14  Sales         2240 non-null   float64\n",
            " 15  UnitPrice     2240 non-null   float64\n",
            " 16  Quantity      2240 non-null   int64  \n",
            " 17  TrackName     2240 non-null   object \n",
            " 18  AlbumTitle    2240 non-null   object \n",
            " 19  ArtistName    2240 non-null   object \n",
            " 20  Genre         2240 non-null   object \n",
            " 21  MediaType     2240 non-null   object \n",
            "dtypes: float64(2), int64(3), object(17)\n",
            "memory usage: 385.1+ KB\n"
          ]
        }
      ]
    },
    {
      "cell_type": "code",
      "source": [
        "from langchain.agents.agent_types import AgentType\n",
        "from langchain_experimental.agents.agent_toolkits import create_pandas_dataframe_agent"
      ],
      "metadata": {
        "id": "_Pvtoq9wLiq3"
      },
      "execution_count": null,
      "outputs": []
    },
    {
      "cell_type": "code",
      "source": [
        "agent = create_pandas_dataframe_agent(\n",
        "    ChatOpenAI(temperature=0, model=\"gpt-3.5-turbo-0613\"),\n",
        "    df,\n",
        "    verbose=True,\n",
        "    agent_type=AgentType.OPENAI_FUNCTIONS,\n",
        ")"
      ],
      "metadata": {
        "id": "beFrv7d9Lo4H"
      },
      "execution_count": null,
      "outputs": []
    },
    {
      "cell_type": "code",
      "source": [
        "df.shape"
      ],
      "metadata": {
        "colab": {
          "base_uri": "https://localhost:8080/"
        },
        "id": "13Yq2mDN7nkb",
        "outputId": "696a3c97-0597-4c52-97c1-4e32bb688c58"
      },
      "execution_count": null,
      "outputs": [
        {
          "output_type": "execute_result",
          "data": {
            "text/plain": [
              "(2240, 22)"
            ]
          },
          "metadata": {},
          "execution_count": 27
        }
      ]
    },
    {
      "cell_type": "code",
      "source": [
        "agent.run(\"how many rows and columns are in the dataset?\")"
      ],
      "metadata": {
        "colab": {
          "base_uri": "https://localhost:8080/",
          "height": 204
        },
        "id": "n1sIRhMQLqkh",
        "outputId": "8002f5fe-c4e7-44b2-c602-6dbb439ca1c0"
      },
      "execution_count": null,
      "outputs": [
        {
          "output_type": "stream",
          "name": "stdout",
          "text": [
            "\n",
            "\n",
            "\u001b[1m> Entering new AgentExecutor chain...\u001b[0m\n",
            "\u001b[32;1m\u001b[1;3m\n",
            "Invoking: `python_repl_ast` with `{'query': 'df.shape'}`\n",
            "\n",
            "\n",
            "\u001b[0m\u001b[36;1m\u001b[1;3m(2240, 22)\u001b[0m\u001b[32;1m\u001b[1;3mThe dataset has 2240 rows and 22 columns.\u001b[0m\n",
            "\n",
            "\u001b[1m> Finished chain.\u001b[0m\n"
          ]
        },
        {
          "output_type": "execute_result",
          "data": {
            "text/plain": [
              "'The dataset has 2240 rows and 22 columns.'"
            ],
            "application/vnd.google.colaboratory.intrinsic+json": {
              "type": "string"
            }
          },
          "metadata": {},
          "execution_count": 26
        }
      ]
    },
    {
      "cell_type": "code",
      "source": [
        "agent.run(\"how many unique countries in the dataset?\")"
      ],
      "metadata": {
        "colab": {
          "base_uri": "https://localhost:8080/",
          "height": 204
        },
        "id": "DI4FHdIULu5v",
        "outputId": "303e234e-d5d7-467c-9dd4-e7a8296f62ef"
      },
      "execution_count": null,
      "outputs": [
        {
          "output_type": "stream",
          "name": "stdout",
          "text": [
            "\n",
            "\n",
            "\u001b[1m> Entering new AgentExecutor chain...\u001b[0m\n",
            "\u001b[32;1m\u001b[1;3m\n",
            "Invoking: `python_repl_ast` with `{'query': \"df['Country'].nunique()\"}`\n",
            "\n",
            "\n",
            "\u001b[0m\u001b[36;1m\u001b[1;3m24\u001b[0m\u001b[32;1m\u001b[1;3mThere are 24 unique countries in the dataset.\u001b[0m\n",
            "\n",
            "\u001b[1m> Finished chain.\u001b[0m\n"
          ]
        },
        {
          "output_type": "execute_result",
          "data": {
            "text/plain": [
              "'There are 24 unique countries in the dataset.'"
            ],
            "application/vnd.google.colaboratory.intrinsic+json": {
              "type": "string"
            }
          },
          "metadata": {},
          "execution_count": 28
        }
      ]
    },
    {
      "cell_type": "code",
      "source": [
        "agent.run(\"what are the top 5 most common track names and their artists?\")"
      ],
      "metadata": {
        "colab": {
          "base_uri": "https://localhost:8080/",
          "height": 442
        },
        "id": "IYxQE_0tL1w2",
        "outputId": "b6067c41-d6e3-4dfa-fe47-0c9dfc4b2b35"
      },
      "execution_count": null,
      "outputs": [
        {
          "output_type": "stream",
          "name": "stdout",
          "text": [
            "\n",
            "\n",
            "\u001b[1m> Entering new AgentExecutor chain...\u001b[0m\n",
            "\u001b[32;1m\u001b[1;3m\n",
            "Invoking: `python_repl_ast` with `{'query': \"df.groupby(['TrackName', 'ArtistName']).size().reset_index(name='count').nlargest(5, 'count')\"}`\n",
            "\n",
            "\n",
            "\u001b[0m\u001b[36;1m\u001b[1;3m                    TrackName   ArtistName  count\n",
            "1671              The Trooper  Iron Maiden      5\n",
            "491                  Eruption    Van Halen      4\n",
            "660      Hallowed Be Thy Name  Iron Maiden      4\n",
            "1535      Sure Know Something         Kiss      4\n",
            "1648  The Number Of The Beast  Iron Maiden      4\u001b[0m\u001b[32;1m\u001b[1;3mThe top 5 most common track names and their artists are:\n",
            "\n",
            "1. Track Name: \"The Trooper\", Artist: \"Iron Maiden\", Count: 5\n",
            "2. Track Name: \"Eruption\", Artist: \"Van Halen\", Count: 4\n",
            "3. Track Name: \"Hallowed Be Thy Name\", Artist: \"Iron Maiden\", Count: 4\n",
            "4. Track Name: \"Sure Know Something\", Artist: \"Kiss\", Count: 4\n",
            "5. Track Name: \"The Number Of The Beast\", Artist: \"Iron Maiden\", Count: 4\u001b[0m\n",
            "\n",
            "\u001b[1m> Finished chain.\u001b[0m\n"
          ]
        },
        {
          "output_type": "execute_result",
          "data": {
            "text/plain": [
              "'The top 5 most common track names and their artists are:\\n\\n1. Track Name: \"The Trooper\", Artist: \"Iron Maiden\", Count: 5\\n2. Track Name: \"Eruption\", Artist: \"Van Halen\", Count: 4\\n3. Track Name: \"Hallowed Be Thy Name\", Artist: \"Iron Maiden\", Count: 4\\n4. Track Name: \"Sure Know Something\", Artist: \"Kiss\", Count: 4\\n5. Track Name: \"The Number Of The Beast\", Artist: \"Iron Maiden\", Count: 4'"
            ],
            "application/vnd.google.colaboratory.intrinsic+json": {
              "type": "string"
            }
          },
          "metadata": {},
          "execution_count": 29
        }
      ]
    },
    {
      "cell_type": "code",
      "source": [
        "agent.run(\"what are the top 5 most popular artists?\")"
      ],
      "metadata": {
        "colab": {
          "base_uri": "https://localhost:8080/",
          "height": 405
        },
        "id": "fodUzfs7L8p_",
        "outputId": "daa380fe-14ae-4da5-cceb-7c5b7858ee01"
      },
      "execution_count": null,
      "outputs": [
        {
          "output_type": "stream",
          "name": "stdout",
          "text": [
            "\n",
            "\n",
            "\u001b[1m> Entering new AgentExecutor chain...\u001b[0m\n",
            "\u001b[32;1m\u001b[1;3m\n",
            "Invoking: `python_repl_ast` with `{'query': \"df['ArtistName'].value_counts().head(5)\"}`\n",
            "\n",
            "\n",
            "\u001b[0m\u001b[36;1m\u001b[1;3mIron Maiden                140\n",
            "U2                         107\n",
            "Metallica                   91\n",
            "Led Zeppelin                87\n",
            "Os Paralamas Do Sucesso     45\n",
            "Name: ArtistName, dtype: int64\u001b[0m\u001b[32;1m\u001b[1;3mThe top 5 most popular artists are:\n",
            "\n",
            "1. Iron Maiden - 140\n",
            "2. U2 - 107\n",
            "3. Metallica - 91\n",
            "4. Led Zeppelin - 87\n",
            "5. Os Paralamas Do Sucesso - 45\u001b[0m\n",
            "\n",
            "\u001b[1m> Finished chain.\u001b[0m\n"
          ]
        },
        {
          "output_type": "execute_result",
          "data": {
            "text/plain": [
              "'The top 5 most popular artists are:\\n\\n1. Iron Maiden - 140\\n2. U2 - 107\\n3. Metallica - 91\\n4. Led Zeppelin - 87\\n5. Os Paralamas Do Sucesso - 45'"
            ],
            "application/vnd.google.colaboratory.intrinsic+json": {
              "type": "string"
            }
          },
          "metadata": {},
          "execution_count": 30
        }
      ]
    },
    {
      "cell_type": "markdown",
      "source": [
        "# LLamaIndex\n",
        "\n",
        "LlamaIndex, is a versatile data framework designed to facilitate the integration of custom data sources with large language models (LLMs). It acts as a bridge that allows developers to connect various data formats and sources—such as APIs, databases, and documents—to LLMs like GPT-4, enhancing their capabilities to process and generate human-like text.\n",
        "\n",
        "To learn more about LlamaIndex visit thier page at https://www.llamaindex.ai/"
      ],
      "metadata": {
        "id": "2AfmnHuaMIhv"
      }
    },
    {
      "cell_type": "code",
      "source": [
        "%pip install llama-index --quiet\n",
        "%pip install langchain langchain-experimental  pypdf langchain-huggingface openai llama-index-experimental --quiet"
      ],
      "metadata": {
        "colab": {
          "base_uri": "https://localhost:8080/"
        },
        "id": "m0rP5vONMFGs",
        "outputId": "8803fe89-965a-4815-d654-fa9a74e7fd24"
      },
      "execution_count": null,
      "outputs": [
        {
          "output_type": "stream",
          "name": "stdout",
          "text": [
            "\u001b[?25l   \u001b[90m━━━━━━━━━━━━━━━━━━━━━━━━━━━━━━━━━━━━━━━━\u001b[0m \u001b[32m0.0/227.1 kB\u001b[0m \u001b[31m?\u001b[0m eta \u001b[36m-:--:--\u001b[0m\r\u001b[2K   \u001b[91m━━━━━━━━━━━━━━━━━━━━━━━━━━━━━━\u001b[0m\u001b[91m╸\u001b[0m\u001b[90m━━━━━━━━━\u001b[0m \u001b[32m174.1/227.1 kB\u001b[0m \u001b[31m5.3 MB/s\u001b[0m eta \u001b[36m0:00:01\u001b[0m\r\u001b[2K   \u001b[90m━━━━━━━━━━━━━━━━━━━━━━━━━━━━━━━━━━━━━━━━\u001b[0m \u001b[32m227.1/227.1 kB\u001b[0m \u001b[31m3.8 MB/s\u001b[0m eta \u001b[36m0:00:00\u001b[0m\n",
            "\u001b[?25h"
          ]
        }
      ]
    },
    {
      "cell_type": "markdown",
      "source": [
        "## Example LLamaIndex and pandas DataFrame"
      ],
      "metadata": {
        "id": "HrTZVHChM4kR"
      }
    },
    {
      "cell_type": "code",
      "source": [
        "# %whos"
      ],
      "metadata": {
        "id": "NwxmuNNA9KBF"
      },
      "execution_count": null,
      "outputs": []
    },
    {
      "cell_type": "code",
      "source": [
        "from llama_index.experimental.query_engine import PandasQueryEngine\n",
        "from llama_index.llms.openai import OpenAI\n",
        "llm = OpenAI(model=\"gpt-3.5-turbo-1106\")\n",
        "\n"
      ],
      "metadata": {
        "id": "hKjHxWv-MLLp"
      },
      "execution_count": null,
      "outputs": []
    },
    {
      "cell_type": "code",
      "source": [
        "query_engine = PandasQueryEngine(llm=llm, df=df, verbose=True)"
      ],
      "metadata": {
        "id": "wgP9zF2rM3Ck"
      },
      "execution_count": null,
      "outputs": []
    },
    {
      "cell_type": "code",
      "source": [
        "query_engine.query(\"what are the top 5 most popular artists?\");"
      ],
      "metadata": {
        "colab": {
          "base_uri": "https://localhost:8080/"
        },
        "id": "CFVp0Zs7M87r",
        "outputId": "c9d0651c-5e83-4be5-8459-8cac2a8b0750"
      },
      "execution_count": null,
      "outputs": [
        {
          "output_type": "stream",
          "name": "stdout",
          "text": [
            "> Pandas Instructions:\n",
            "```\n",
            "df['ArtistName'].value_counts().head(5)\n",
            "```\n",
            "> Pandas Output: ArtistName\n",
            "Iron Maiden                140\n",
            "U2                         107\n",
            "Metallica                   91\n",
            "Led Zeppelin                87\n",
            "Os Paralamas Do Sucesso     45\n",
            "Name: count, dtype: int64\n"
          ]
        }
      ]
    },
    {
      "cell_type": "code",
      "source": [
        "df['ArtistName'].value_counts().head(5)"
      ],
      "metadata": {
        "colab": {
          "base_uri": "https://localhost:8080/",
          "height": 269
        },
        "id": "EodnBYjv9eV8",
        "outputId": "367220b9-3f98-423f-a68c-0577ebad7b62"
      },
      "execution_count": null,
      "outputs": [
        {
          "output_type": "execute_result",
          "data": {
            "text/plain": [
              "ArtistName\n",
              "Iron Maiden                140\n",
              "U2                         107\n",
              "Metallica                   91\n",
              "Led Zeppelin                87\n",
              "Os Paralamas Do Sucesso     45\n",
              "Name: count, dtype: int64"
            ],
            "text/html": [
              "<div>\n",
              "<style scoped>\n",
              "    .dataframe tbody tr th:only-of-type {\n",
              "        vertical-align: middle;\n",
              "    }\n",
              "\n",
              "    .dataframe tbody tr th {\n",
              "        vertical-align: top;\n",
              "    }\n",
              "\n",
              "    .dataframe thead th {\n",
              "        text-align: right;\n",
              "    }\n",
              "</style>\n",
              "<table border=\"1\" class=\"dataframe\">\n",
              "  <thead>\n",
              "    <tr style=\"text-align: right;\">\n",
              "      <th></th>\n",
              "      <th>count</th>\n",
              "    </tr>\n",
              "    <tr>\n",
              "      <th>ArtistName</th>\n",
              "      <th></th>\n",
              "    </tr>\n",
              "  </thead>\n",
              "  <tbody>\n",
              "    <tr>\n",
              "      <th>Iron Maiden</th>\n",
              "      <td>140</td>\n",
              "    </tr>\n",
              "    <tr>\n",
              "      <th>U2</th>\n",
              "      <td>107</td>\n",
              "    </tr>\n",
              "    <tr>\n",
              "      <th>Metallica</th>\n",
              "      <td>91</td>\n",
              "    </tr>\n",
              "    <tr>\n",
              "      <th>Led Zeppelin</th>\n",
              "      <td>87</td>\n",
              "    </tr>\n",
              "    <tr>\n",
              "      <th>Os Paralamas Do Sucesso</th>\n",
              "      <td>45</td>\n",
              "    </tr>\n",
              "  </tbody>\n",
              "</table>\n",
              "</div><br><label><b>dtype:</b> int64</label>"
            ]
          },
          "metadata": {},
          "execution_count": 16
        }
      ]
    },
    {
      "cell_type": "code",
      "source": [
        "df['Email'].head()"
      ],
      "metadata": {
        "colab": {
          "base_uri": "https://localhost:8080/",
          "height": 238
        },
        "id": "IwwMNUmzND6c",
        "outputId": "b9a6a45b-a806-4887-eecd-ae69227d789c"
      },
      "execution_count": null,
      "outputs": [
        {
          "output_type": "execute_result",
          "data": {
            "text/plain": [
              "0    leonekohler@surfeu.de\n",
              "1    leonekohler@surfeu.de\n",
              "2    bjorn.hansen@yahoo.no\n",
              "3    bjorn.hansen@yahoo.no\n",
              "4    bjorn.hansen@yahoo.no\n",
              "Name: Email, dtype: object"
            ],
            "text/html": [
              "<div>\n",
              "<style scoped>\n",
              "    .dataframe tbody tr th:only-of-type {\n",
              "        vertical-align: middle;\n",
              "    }\n",
              "\n",
              "    .dataframe tbody tr th {\n",
              "        vertical-align: top;\n",
              "    }\n",
              "\n",
              "    .dataframe thead th {\n",
              "        text-align: right;\n",
              "    }\n",
              "</style>\n",
              "<table border=\"1\" class=\"dataframe\">\n",
              "  <thead>\n",
              "    <tr style=\"text-align: right;\">\n",
              "      <th></th>\n",
              "      <th>Email</th>\n",
              "    </tr>\n",
              "  </thead>\n",
              "  <tbody>\n",
              "    <tr>\n",
              "      <th>0</th>\n",
              "      <td>leonekohler@surfeu.de</td>\n",
              "    </tr>\n",
              "    <tr>\n",
              "      <th>1</th>\n",
              "      <td>leonekohler@surfeu.de</td>\n",
              "    </tr>\n",
              "    <tr>\n",
              "      <th>2</th>\n",
              "      <td>bjorn.hansen@yahoo.no</td>\n",
              "    </tr>\n",
              "    <tr>\n",
              "      <th>3</th>\n",
              "      <td>bjorn.hansen@yahoo.no</td>\n",
              "    </tr>\n",
              "    <tr>\n",
              "      <th>4</th>\n",
              "      <td>bjorn.hansen@yahoo.no</td>\n",
              "    </tr>\n",
              "  </tbody>\n",
              "</table>\n",
              "</div><br><label><b>dtype:</b> object</label>"
            ]
          },
          "metadata": {},
          "execution_count": 17
        }
      ]
    },
    {
      "cell_type": "code",
      "source": [
        "df['Email'].str.extract('(^[\\\\w\\\\.-]+)')"
      ],
      "metadata": {
        "colab": {
          "base_uri": "https://localhost:8080/",
          "height": 419
        },
        "id": "ciA4X4kwSXzN",
        "outputId": "4f00feee-329d-4db2-aabd-78acf62bc85e"
      },
      "execution_count": null,
      "outputs": [
        {
          "output_type": "execute_result",
          "data": {
            "text/plain": [
              "                     0\n",
              "0          leonekohler\n",
              "1          leonekohler\n",
              "2         bjorn.hansen\n",
              "3         bjorn.hansen\n",
              "4         bjorn.hansen\n",
              "...                ...\n",
              "2235  terhi.hamalainen\n",
              "2236  terhi.hamalainen\n",
              "2237  terhi.hamalainen\n",
              "2238  terhi.hamalainen\n",
              "2239      manoj.pareek\n",
              "\n",
              "[2240 rows x 1 columns]"
            ],
            "text/html": [
              "\n",
              "  <div id=\"df-1210d6fe-5696-486c-8b50-a9aa6d2bf84b\" class=\"colab-df-container\">\n",
              "    <div>\n",
              "<style scoped>\n",
              "    .dataframe tbody tr th:only-of-type {\n",
              "        vertical-align: middle;\n",
              "    }\n",
              "\n",
              "    .dataframe tbody tr th {\n",
              "        vertical-align: top;\n",
              "    }\n",
              "\n",
              "    .dataframe thead th {\n",
              "        text-align: right;\n",
              "    }\n",
              "</style>\n",
              "<table border=\"1\" class=\"dataframe\">\n",
              "  <thead>\n",
              "    <tr style=\"text-align: right;\">\n",
              "      <th></th>\n",
              "      <th>0</th>\n",
              "    </tr>\n",
              "  </thead>\n",
              "  <tbody>\n",
              "    <tr>\n",
              "      <th>0</th>\n",
              "      <td>leonekohler</td>\n",
              "    </tr>\n",
              "    <tr>\n",
              "      <th>1</th>\n",
              "      <td>leonekohler</td>\n",
              "    </tr>\n",
              "    <tr>\n",
              "      <th>2</th>\n",
              "      <td>bjorn.hansen</td>\n",
              "    </tr>\n",
              "    <tr>\n",
              "      <th>3</th>\n",
              "      <td>bjorn.hansen</td>\n",
              "    </tr>\n",
              "    <tr>\n",
              "      <th>4</th>\n",
              "      <td>bjorn.hansen</td>\n",
              "    </tr>\n",
              "    <tr>\n",
              "      <th>...</th>\n",
              "      <td>...</td>\n",
              "    </tr>\n",
              "    <tr>\n",
              "      <th>2235</th>\n",
              "      <td>terhi.hamalainen</td>\n",
              "    </tr>\n",
              "    <tr>\n",
              "      <th>2236</th>\n",
              "      <td>terhi.hamalainen</td>\n",
              "    </tr>\n",
              "    <tr>\n",
              "      <th>2237</th>\n",
              "      <td>terhi.hamalainen</td>\n",
              "    </tr>\n",
              "    <tr>\n",
              "      <th>2238</th>\n",
              "      <td>terhi.hamalainen</td>\n",
              "    </tr>\n",
              "    <tr>\n",
              "      <th>2239</th>\n",
              "      <td>manoj.pareek</td>\n",
              "    </tr>\n",
              "  </tbody>\n",
              "</table>\n",
              "<p>2240 rows × 1 columns</p>\n",
              "</div>\n",
              "    <div class=\"colab-df-buttons\">\n",
              "\n",
              "  <div class=\"colab-df-container\">\n",
              "    <button class=\"colab-df-convert\" onclick=\"convertToInteractive('df-1210d6fe-5696-486c-8b50-a9aa6d2bf84b')\"\n",
              "            title=\"Convert this dataframe to an interactive table.\"\n",
              "            style=\"display:none;\">\n",
              "\n",
              "  <svg xmlns=\"http://www.w3.org/2000/svg\" height=\"24px\" viewBox=\"0 -960 960 960\">\n",
              "    <path d=\"M120-120v-720h720v720H120Zm60-500h600v-160H180v160Zm220 220h160v-160H400v160Zm0 220h160v-160H400v160ZM180-400h160v-160H180v160Zm440 0h160v-160H620v160ZM180-180h160v-160H180v160Zm440 0h160v-160H620v160Z\"/>\n",
              "  </svg>\n",
              "    </button>\n",
              "\n",
              "  <style>\n",
              "    .colab-df-container {\n",
              "      display:flex;\n",
              "      gap: 12px;\n",
              "    }\n",
              "\n",
              "    .colab-df-convert {\n",
              "      background-color: #E8F0FE;\n",
              "      border: none;\n",
              "      border-radius: 50%;\n",
              "      cursor: pointer;\n",
              "      display: none;\n",
              "      fill: #1967D2;\n",
              "      height: 32px;\n",
              "      padding: 0 0 0 0;\n",
              "      width: 32px;\n",
              "    }\n",
              "\n",
              "    .colab-df-convert:hover {\n",
              "      background-color: #E2EBFA;\n",
              "      box-shadow: 0px 1px 2px rgba(60, 64, 67, 0.3), 0px 1px 3px 1px rgba(60, 64, 67, 0.15);\n",
              "      fill: #174EA6;\n",
              "    }\n",
              "\n",
              "    .colab-df-buttons div {\n",
              "      margin-bottom: 4px;\n",
              "    }\n",
              "\n",
              "    [theme=dark] .colab-df-convert {\n",
              "      background-color: #3B4455;\n",
              "      fill: #D2E3FC;\n",
              "    }\n",
              "\n",
              "    [theme=dark] .colab-df-convert:hover {\n",
              "      background-color: #434B5C;\n",
              "      box-shadow: 0px 1px 3px 1px rgba(0, 0, 0, 0.15);\n",
              "      filter: drop-shadow(0px 1px 2px rgba(0, 0, 0, 0.3));\n",
              "      fill: #FFFFFF;\n",
              "    }\n",
              "  </style>\n",
              "\n",
              "    <script>\n",
              "      const buttonEl =\n",
              "        document.querySelector('#df-1210d6fe-5696-486c-8b50-a9aa6d2bf84b button.colab-df-convert');\n",
              "      buttonEl.style.display =\n",
              "        google.colab.kernel.accessAllowed ? 'block' : 'none';\n",
              "\n",
              "      async function convertToInteractive(key) {\n",
              "        const element = document.querySelector('#df-1210d6fe-5696-486c-8b50-a9aa6d2bf84b');\n",
              "        const dataTable =\n",
              "          await google.colab.kernel.invokeFunction('convertToInteractive',\n",
              "                                                    [key], {});\n",
              "        if (!dataTable) return;\n",
              "\n",
              "        const docLinkHtml = 'Like what you see? Visit the ' +\n",
              "          '<a target=\"_blank\" href=https://colab.research.google.com/notebooks/data_table.ipynb>data table notebook</a>'\n",
              "          + ' to learn more about interactive tables.';\n",
              "        element.innerHTML = '';\n",
              "        dataTable['output_type'] = 'display_data';\n",
              "        await google.colab.output.renderOutput(dataTable, element);\n",
              "        const docLink = document.createElement('div');\n",
              "        docLink.innerHTML = docLinkHtml;\n",
              "        element.appendChild(docLink);\n",
              "      }\n",
              "    </script>\n",
              "  </div>\n",
              "\n",
              "\n",
              "<div id=\"df-946203d7-42e4-48f5-b26a-c72fcd5de562\">\n",
              "  <button class=\"colab-df-quickchart\" onclick=\"quickchart('df-946203d7-42e4-48f5-b26a-c72fcd5de562')\"\n",
              "            title=\"Suggest charts\"\n",
              "            style=\"display:none;\">\n",
              "\n",
              "<svg xmlns=\"http://www.w3.org/2000/svg\" height=\"24px\"viewBox=\"0 0 24 24\"\n",
              "     width=\"24px\">\n",
              "    <g>\n",
              "        <path d=\"M19 3H5c-1.1 0-2 .9-2 2v14c0 1.1.9 2 2 2h14c1.1 0 2-.9 2-2V5c0-1.1-.9-2-2-2zM9 17H7v-7h2v7zm4 0h-2V7h2v10zm4 0h-2v-4h2v4z\"/>\n",
              "    </g>\n",
              "</svg>\n",
              "  </button>\n",
              "\n",
              "<style>\n",
              "  .colab-df-quickchart {\n",
              "      --bg-color: #E8F0FE;\n",
              "      --fill-color: #1967D2;\n",
              "      --hover-bg-color: #E2EBFA;\n",
              "      --hover-fill-color: #174EA6;\n",
              "      --disabled-fill-color: #AAA;\n",
              "      --disabled-bg-color: #DDD;\n",
              "  }\n",
              "\n",
              "  [theme=dark] .colab-df-quickchart {\n",
              "      --bg-color: #3B4455;\n",
              "      --fill-color: #D2E3FC;\n",
              "      --hover-bg-color: #434B5C;\n",
              "      --hover-fill-color: #FFFFFF;\n",
              "      --disabled-bg-color: #3B4455;\n",
              "      --disabled-fill-color: #666;\n",
              "  }\n",
              "\n",
              "  .colab-df-quickchart {\n",
              "    background-color: var(--bg-color);\n",
              "    border: none;\n",
              "    border-radius: 50%;\n",
              "    cursor: pointer;\n",
              "    display: none;\n",
              "    fill: var(--fill-color);\n",
              "    height: 32px;\n",
              "    padding: 0;\n",
              "    width: 32px;\n",
              "  }\n",
              "\n",
              "  .colab-df-quickchart:hover {\n",
              "    background-color: var(--hover-bg-color);\n",
              "    box-shadow: 0 1px 2px rgba(60, 64, 67, 0.3), 0 1px 3px 1px rgba(60, 64, 67, 0.15);\n",
              "    fill: var(--button-hover-fill-color);\n",
              "  }\n",
              "\n",
              "  .colab-df-quickchart-complete:disabled,\n",
              "  .colab-df-quickchart-complete:disabled:hover {\n",
              "    background-color: var(--disabled-bg-color);\n",
              "    fill: var(--disabled-fill-color);\n",
              "    box-shadow: none;\n",
              "  }\n",
              "\n",
              "  .colab-df-spinner {\n",
              "    border: 2px solid var(--fill-color);\n",
              "    border-color: transparent;\n",
              "    border-bottom-color: var(--fill-color);\n",
              "    animation:\n",
              "      spin 1s steps(1) infinite;\n",
              "  }\n",
              "\n",
              "  @keyframes spin {\n",
              "    0% {\n",
              "      border-color: transparent;\n",
              "      border-bottom-color: var(--fill-color);\n",
              "      border-left-color: var(--fill-color);\n",
              "    }\n",
              "    20% {\n",
              "      border-color: transparent;\n",
              "      border-left-color: var(--fill-color);\n",
              "      border-top-color: var(--fill-color);\n",
              "    }\n",
              "    30% {\n",
              "      border-color: transparent;\n",
              "      border-left-color: var(--fill-color);\n",
              "      border-top-color: var(--fill-color);\n",
              "      border-right-color: var(--fill-color);\n",
              "    }\n",
              "    40% {\n",
              "      border-color: transparent;\n",
              "      border-right-color: var(--fill-color);\n",
              "      border-top-color: var(--fill-color);\n",
              "    }\n",
              "    60% {\n",
              "      border-color: transparent;\n",
              "      border-right-color: var(--fill-color);\n",
              "    }\n",
              "    80% {\n",
              "      border-color: transparent;\n",
              "      border-right-color: var(--fill-color);\n",
              "      border-bottom-color: var(--fill-color);\n",
              "    }\n",
              "    90% {\n",
              "      border-color: transparent;\n",
              "      border-bottom-color: var(--fill-color);\n",
              "    }\n",
              "  }\n",
              "</style>\n",
              "\n",
              "  <script>\n",
              "    async function quickchart(key) {\n",
              "      const quickchartButtonEl =\n",
              "        document.querySelector('#' + key + ' button');\n",
              "      quickchartButtonEl.disabled = true;  // To prevent multiple clicks.\n",
              "      quickchartButtonEl.classList.add('colab-df-spinner');\n",
              "      try {\n",
              "        const charts = await google.colab.kernel.invokeFunction(\n",
              "            'suggestCharts', [key], {});\n",
              "      } catch (error) {\n",
              "        console.error('Error during call to suggestCharts:', error);\n",
              "      }\n",
              "      quickchartButtonEl.classList.remove('colab-df-spinner');\n",
              "      quickchartButtonEl.classList.add('colab-df-quickchart-complete');\n",
              "    }\n",
              "    (() => {\n",
              "      let quickchartButtonEl =\n",
              "        document.querySelector('#df-946203d7-42e4-48f5-b26a-c72fcd5de562 button');\n",
              "      quickchartButtonEl.style.display =\n",
              "        google.colab.kernel.accessAllowed ? 'block' : 'none';\n",
              "    })();\n",
              "  </script>\n",
              "</div>\n",
              "\n",
              "    </div>\n",
              "  </div>\n"
            ],
            "application/vnd.google.colaboratory.intrinsic+json": {
              "type": "dataframe",
              "summary": "{\n  \"name\": \"df['Email']\",\n  \"rows\": 2240,\n  \"fields\": [\n    {\n      \"column\": 0,\n      \"properties\": {\n        \"dtype\": \"category\",\n        \"num_unique_values\": 59,\n        \"samples\": [\n          \"leonekohler\",\n          \"fzimmermann\",\n          \"robbrown\"\n        ],\n        \"semantic_type\": \"\",\n        \"description\": \"\"\n      }\n    }\n  ]\n}"
            }
          },
          "metadata": {},
          "execution_count": 28
        }
      ]
    },
    {
      "cell_type": "code",
      "source": [
        "query_engine.query(\n",
        "    \"from the Email columns, parse the emails and extract usernames using RegEx. Do not store it in the DataFrame just print it out\",\n",
        ");"
      ],
      "metadata": {
        "colab": {
          "base_uri": "https://localhost:8080/"
        },
        "id": "SPdV-lonNMEI",
        "outputId": "915d5911-5204-455c-cb62-d9261d914b91"
      },
      "execution_count": null,
      "outputs": [
        {
          "output_type": "stream",
          "name": "stdout",
          "text": [
            "> Pandas Instructions:\n",
            "```\n",
            "df['Email'].str.extract(r'(\\w+)@')\n",
            "```\n",
            "> Pandas Output:                 0\n",
            "0     leonekohler\n",
            "1     leonekohler\n",
            "2          hansen\n",
            "3          hansen\n",
            "4          hansen\n",
            "...           ...\n",
            "2235   hamalainen\n",
            "2236   hamalainen\n",
            "2237   hamalainen\n",
            "2238   hamalainen\n",
            "2239       pareek\n",
            "\n",
            "[2240 rows x 1 columns]\n"
          ]
        }
      ]
    },
    {
      "cell_type": "code",
      "source": [
        "query_engine.query(\n",
        "    \"What is the correlation sales and unit price and quantity?\",\n",
        ");"
      ],
      "metadata": {
        "colab": {
          "base_uri": "https://localhost:8080/"
        },
        "id": "Li2OlMlXNQUz",
        "outputId": "6d937c35-92ee-442c-d789-d6795c036d5f"
      },
      "execution_count": null,
      "outputs": [
        {
          "output_type": "stream",
          "name": "stdout",
          "text": [
            "> Pandas Instructions:\n",
            "```\n",
            "df[['Sales', 'UnitPrice', 'Quantity']].corr()\n",
            "```\n",
            "> Pandas Output:               Sales  UnitPrice  Quantity\n",
            "Sales      1.000000   0.298778       NaN\n",
            "UnitPrice  0.298778   1.000000       NaN\n",
            "Quantity        NaN        NaN       NaN\n"
          ]
        }
      ]
    },
    {
      "cell_type": "code",
      "source": [
        "query_engine.query(\n",
        "    \"show a line chart for total sales by invoice year\",\n",
        ");"
      ],
      "metadata": {
        "colab": {
          "base_uri": "https://localhost:8080/",
          "height": 568
        },
        "id": "Sz4GTo-BNmDj",
        "outputId": "dc6b1ac9-ccde-44f5-cd83-680ee222f0d5"
      },
      "execution_count": null,
      "outputs": [
        {
          "output_type": "stream",
          "name": "stdout",
          "text": [
            "> Pandas Instructions:\n",
            "```\n",
            "df['InvoiceYear'] = pd.to_datetime(df['InvoiceDate']).dt.year\n",
            "total_sales_by_year = df.groupby('InvoiceYear')['Sales'].sum()\n",
            "total_sales_by_year.plot(kind='line')\n",
            "```\n",
            "> Pandas Output: Axes(0.125,0.11;0.775x0.77)\n"
          ]
        },
        {
          "output_type": "display_data",
          "data": {
            "text/plain": [
              "<Figure size 640x480 with 1 Axes>"
            ],
            "image/png": "[encoded data removed]"
          },
          "metadata": {}
        }
      ]
    },
    {
      "cell_type": "code",
      "source": [
        "df['InvoiceYear'] = pd.to_datetime(df['InvoiceDate']).dt.year\n",
        "df.groupby('InvoiceYear')['Sales'].sum().plot(kind='line')"
      ],
      "metadata": {
        "id": "E-Z1BxXkNxlu",
        "colab": {
          "base_uri": "https://localhost:8080/",
          "height": 466
        },
        "outputId": "0cd52c1d-5833-489e-e377-174e192cd7cb"
      },
      "execution_count": null,
      "outputs": [
        {
          "output_type": "execute_result",
          "data": {
            "text/plain": [
              "<Axes: xlabel='InvoiceYear'>"
            ]
          },
          "metadata": {},
          "execution_count": 22
        },
        {
          "output_type": "display_data",
          "data": {
            "text/plain": [
              "<Figure size 640x480 with 1 Axes>"
            ],
            "image/png": "[encoded data removed]"
          },
          "metadata": {}
        }
      ]
    },
    {
      "cell_type": "markdown",
      "source": [
        "## Using Prompt Templates"
      ],
      "metadata": {
        "id": "TvqHNOxNObJU"
      }
    },
    {
      "cell_type": "code",
      "source": [
        "prompts = query_engine.get_prompts()\n",
        "print(prompts[\"pandas_prompt\"].template)"
      ],
      "metadata": {
        "colab": {
          "base_uri": "https://localhost:8080/"
        },
        "id": "a1ChjSApOS78",
        "outputId": "255f1c6f-abb2-43ec-839f-9801dca2d385"
      },
      "execution_count": null,
      "outputs": [
        {
          "output_type": "stream",
          "name": "stdout",
          "text": [
            "You are working with a pandas dataframe in Python.\n",
            "The name of the dataframe is `df`.\n",
            "This is the result of `print(df.head())`:\n",
            "{df_str}\n",
            "\n",
            "Follow these instructions:\n",
            "{instruction_str}\n",
            "Query: {query_str}\n",
            "\n",
            "Expression:\n"
          ]
        }
      ]
    },
    {
      "cell_type": "code",
      "source": [
        "print(prompts[\"response_synthesis_prompt\"].template)"
      ],
      "metadata": {
        "colab": {
          "base_uri": "https://localhost:8080/"
        },
        "id": "dh4fQHLcOai6",
        "outputId": "7d08a634-8d25-41c1-954c-f5befb247018"
      },
      "execution_count": null,
      "outputs": [
        {
          "output_type": "stream",
          "name": "stdout",
          "text": [
            "Given an input question, synthesize a response from the query results.\n",
            "Query: {query_str}\n",
            "\n",
            "Pandas Instructions (optional):\n",
            "{pandas_instructions}\n",
            "\n",
            "Pandas Output: {pandas_output}\n",
            "\n",
            "Response: \n"
          ]
        }
      ]
    },
    {
      "cell_type": "code",
      "source": [
        "from llama_index.core import PromptTemplate\n",
        "\n",
        "new_prompt = PromptTemplate(\n",
        "    \"\"\"\\\n",
        "You are working with a pandas dataframe in Python.\n",
        "The name of the dataframe is `df`.\n",
        "This is the result of `print(df.head())`:\n",
        "{df_str}\n",
        "\n",
        "Follow these instructions:\n",
        "{instruction_str}\n",
        "Query: {query_str}\n",
        "\n",
        "Expression: \"\"\"\n",
        ")\n",
        "\n",
        "instruction_str = \"\"\"\\\n",
        "1. Convert the query to executable Python code using Pandas.\n",
        "2. The final line of code should be a Python expression that can be called with the `eval()` function.\n",
        "3. The code should represent a solution to the query.\n",
        "4. PRINT ONLY THE EXPRESSION.\n",
        "5. Do not quote the expression.\n",
        "\"\"\"\n",
        "\n",
        "query_engine.update_prompts({\"pandas_prompt\": new_prompt})"
      ],
      "metadata": {
        "id": "0JNV9-aZOf-O"
      },
      "execution_count": null,
      "outputs": []
    },
    {
      "cell_type": "code",
      "source": [
        "query_engine.query(\n",
        "    \"show a line chart for total sales by invoice year\",\n",
        ");"
      ],
      "metadata": {
        "colab": {
          "base_uri": "https://localhost:8080/",
          "height": 534
        },
        "id": "a1Cpso26Owdf",
        "outputId": "9432f384-2fae-40b3-88e6-bc7483b63da4"
      },
      "execution_count": null,
      "outputs": [
        {
          "output_type": "stream",
          "name": "stdout",
          "text": [
            "> Pandas Instructions:\n",
            "```\n",
            "df.groupby('InvoiceYear')['Sales'].sum().plot(kind='line')\n",
            "```\n",
            "> Pandas Output: Axes(0.125,0.11;0.775x0.77)\n"
          ]
        },
        {
          "output_type": "display_data",
          "data": {
            "text/plain": [
              "<Figure size 640x480 with 1 Axes>"
            ],
            "image/png": "[encoded data removed]"
          },
          "metadata": {}
        }
      ]
    },
    {
      "cell_type": "code",
      "source": [
        "from statsmodels.tsa.seasonal import seasonal_decompose\n",
        "import statsmodels.api as sm\n",
        "import pandas as pd\n",
        "\n",
        "query_engine.query(\n",
        "    \"Convert invoice date sales into a time series dataframe, and produce an ACF plot from statsmodels library\",\n",
        ");"
      ],
      "metadata": {
        "colab": {
          "base_uri": "https://localhost:8080/"
        },
        "id": "Gri5ZS0PO3rq",
        "outputId": "063f89ee-1fe6-4649-a01a-a61c507a35d1"
      },
      "execution_count": null,
      "outputs": [
        {
          "output_type": "stream",
          "name": "stdout",
          "text": [
            "> Pandas Instructions:\n",
            "```\n",
            "df['InvoiceDate'] = pd.to_datetime(df['InvoiceDate'])\n",
            "time_series_df = df.set_index('InvoiceDate')\n",
            "acf_plot = sm.graphics.tsa.plot_acf(time_series_df['Sales'])\n",
            "```\n",
            "> Pandas Output: There was an error running the output as Python code. Error message: invalid syntax (<string>, line 1)\n"
          ]
        },
        {
          "output_type": "stream",
          "name": "stderr",
          "text": [
            "Traceback (most recent call last):\n",
            "  File \"/usr/local/lib/python3.10/dist-packages/llama_index/experimental/query_engine/pandas/output_parser.py\", line 54, in default_output_processor\n",
            "    output_str = str(safe_eval(module_end_str, global_vars, local_vars))\n",
            "  File \"/usr/local/lib/python3.10/dist-packages/llama_index/experimental/exec_utils.py\", line 159, in safe_eval\n",
            "    return eval(__source, _get_restricted_globals(__globals), __locals)\n",
            "  File \"<string>\", line 1\n",
            "    acf_plot = sm.graphics.tsa.plot_acf(time_series_df['Sales'])\n",
            "             ^\n",
            "SyntaxError: invalid syntax\n"
          ]
        }
      ]
    },
    {
      "cell_type": "markdown",
      "source": [],
      "metadata": {
        "id": "2UpYg2noQBzu"
      }
    },
    {
      "cell_type": "code",
      "source": [
        "df['InvoiceDate'] = pd.to_datetime(df['InvoiceDate'])\n",
        "time_series_df = df.set_index('InvoiceDate')['Sales']\n",
        "from statsmodels.graphics.tsaplots import plot_acf\n",
        "plot_acf(time_series_df);"
      ],
      "metadata": {
        "colab": {
          "base_uri": "https://localhost:8080/",
          "height": 452
        },
        "id": "UMpv0eizP9Sg",
        "outputId": "439b8ac1-63d8-4a66-8bc9-518f63240c95"
      },
      "execution_count": null,
      "outputs": [
        {
          "output_type": "display_data",
          "data": {
            "text/plain": [
              "<Figure size 640x480 with 1 Axes>"
            ],
            "image/png": "[encoded data removed]"
          },
          "metadata": {}
        }
      ]
    },
    {
      "cell_type": "code",
      "source": [],
      "metadata": {
        "id": "spH4hUAnQb7s"
      },
      "execution_count": null,
      "outputs": []
    }
  ]
}